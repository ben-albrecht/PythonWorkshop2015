{
 "cells": [
  {
   "cell_type": "code",
   "execution_count": null,
   "metadata": {
    "collapsed": true,
    "slideshow": {
     "slide_type": "skip"
    }
   },
   "outputs": [],
   "source": [
    "from __future__ import print_function()"
   ]
  },
  {
   "cell_type": "markdown",
   "metadata": {
    "slideshow": {
     "slide_type": "slide"
    }
   },
   "source": [
    "# Introduction to Python\n",
    "\n",
    "## Ben Albrecht"
   ]
  },
  {
   "cell_type": "markdown",
   "metadata": {
    "slideshow": {
     "slide_type": "slide"
    }
   },
   "source": [
    "# About Python"
   ]
  },
  {
   "cell_type": "markdown",
   "metadata": {
    "slideshow": {
     "slide_type": "subslide"
    }
   },
   "source": [
    "Python is a dynamic, interpreted language. \n",
    "\n",
    "There are no type declarations of variables, parameters, functions, or methods in source code."
   ]
  },
  {
   "cell_type": "code",
   "execution_count": 3,
   "metadata": {
    "collapsed": true,
    "slideshow": {
     "slide_type": "fragment"
    }
   },
   "outputs": [],
   "source": [
    "somevariable = 42"
   ]
  },
  {
   "cell_type": "code",
   "execution_count": null,
   "metadata": {
    "collapsed": true,
    "slideshow": {
     "slide_type": "fragment"
    }
   },
   "outputs": [],
   "source": [
    "somevariable = 'Hello'"
   ]
  },
  {
   "cell_type": "markdown",
   "metadata": {
    "slideshow": {
     "slide_type": "subslide"
    }
   },
   "source": [
    "Python is a quick and light general purpose programming language\n",
    "\n",
    "It is great for:\n",
    "\n",
    "* Small-medium projects\n",
    "* Prototyping\n",
    "* Scientific software\n"
   ]
  },
  {
   "cell_type": "code",
   "execution_count": 25,
   "metadata": {
    "collapsed": false,
    "slideshow": {
     "slide_type": "subslide"
    }
   },
   "outputs": [
    {
     "name": "stdout",
     "output_type": "stream",
     "text": [
      "The Zen of Python, by Tim Peters\n",
      "\n",
      "Beautiful is better than ugly.\n",
      "Explicit is better than implicit.\n",
      "Simple is better than complex.\n",
      "Complex is better than complicated.\n",
      "Flat is better than nested.\n",
      "Sparse is better than dense.\n",
      "Readability counts.\n",
      "Special cases aren't special enough to break the rules.\n",
      "Although practicality beats purity.\n",
      "Errors should never pass silently.\n",
      "Unless explicitly silenced.\n",
      "In the face of ambiguity, refuse the temptation to guess.\n",
      "There should be one-- and preferably only one --obvious way to do it.\n",
      "Although that way may not be obvious at first unless you're Dutch.\n",
      "Now is better than never.\n",
      "Although never is often better than *right* now.\n",
      "If the implementation is hard to explain, it's a bad idea.\n",
      "If the implementation is easy to explain, it may be a good idea.\n",
      "Namespaces are one honking great idea -- let's do more of those!\n"
     ]
    }
   ],
   "source": [
    "import this"
   ]
  },
  {
   "cell_type": "markdown",
   "metadata": {
    "slideshow": {
     "slide_type": "slide"
    }
   },
   "source": [
    "There are many ways to use Python:\n",
    "\n",
    "* Interactive (Python interpreter & IPython interpreter)\n",
    "* Scripts\n",
    "* Modules\n",
    "* Packages\n",
    "* Applications"
   ]
  },
  {
   "cell_type": "markdown",
   "metadata": {
    "slideshow": {
     "slide_type": "subslide"
    }
   },
   "source": [
    "# Jupyter\n",
    "\n",
    "Our *\"IDE\"* of choice for the workshop\n",
    "\n",
    "Contains IPython Notebook interactive python shell, but supports many other languages / features\n",
    "\n",
    "Runs inside the browser"
   ]
  },
  {
   "cell_type": "markdown",
   "metadata": {
    "slideshow": {
     "slide_type": "slide"
    }
   },
   "source": [
    "## Basic Printing"
   ]
  },
  {
   "cell_type": "markdown",
   "metadata": {
    "slideshow": {
     "slide_type": "slide"
    }
   },
   "source": [
    "## Getting Help\n",
    "\n",
    "* `help(object)`\n",
    "    * Companion function like a manual\n",
    "\n",
    "* `dir(object) ` \n",
    "    * Prints valid attributes of object\n",
    "\n",
    "__IPython Exclusive:__\n",
    "\n",
    "* `object?` \n",
    "    * Prints all known information about object\n",
    "* `object??`\n",
    "    * Shows source code where object is implemented\n",
    "* Tab-completion\n",
    "    * press tab and see what is available\n",
    "\n",
    "__The internet__\n",
    "* www.python.org\n",
    "* www.stackoverflow.com\n",
    "* www.google.com"
   ]
  },
  {
   "cell_type": "markdown",
   "metadata": {
    "slideshow": {
     "slide_type": "slide"
    }
   },
   "source": [
    "# Numerical Objects"
   ]
  },
  {
   "cell_type": "code",
   "execution_count": 6,
   "metadata": {
    "collapsed": false,
    "slideshow": {
     "slide_type": "fragment"
    }
   },
   "outputs": [],
   "source": [
    "# Integer\n",
    "myinteger = 1\n",
    "\n",
    "# Float\n",
    "myfloat = 1.0"
   ]
  },
  {
   "cell_type": "code",
   "execution_count": 7,
   "metadata": {
    "collapsed": false,
    "slideshow": {
     "slide_type": "fragment"
    }
   },
   "outputs": [
    {
     "name": "stdout",
     "output_type": "stream",
     "text": [
      "1.5\n",
      "0.5\n"
     ]
    }
   ],
   "source": [
    "# Complex\n",
    "mycomplex = 1.5 + 0.5j\n",
    "print(mycomplex.real) # 1.5\n",
    "print(mycomplex.imag) # 0.5"
   ]
  },
  {
   "cell_type": "code",
   "execution_count": 8,
   "metadata": {
    "collapsed": false,
    "slideshow": {
     "slide_type": "fragment"
    }
   },
   "outputs": [],
   "source": [
    "# Type casts\n",
    "myfloat = float(myinteger)\n",
    "myinteger = int(myfloat)"
   ]
  },
  {
   "cell_type": "markdown",
   "metadata": {
    "slideshow": {
     "slide_type": "subslide"
    }
   },
   "source": [
    "Operators\n",
    "* Addition \n",
    "    * a \\+  b \n",
    "* Subtraction:  \n",
    "    * a \\- b   \n",
    "* Multiplication: \n",
    "    * a \\* b  \n",
    "* Exponentiation\n",
    "    * a\\*\\*b\n",
    "* Division \n",
    "    * a / b\n",
    "* Modulus\n",
    "    * a % b\n"
   ]
  },
  {
   "cell_type": "markdown",
   "metadata": {
    "slideshow": {
     "slide_type": "fragment"
    }
   },
   "source": [
    "__Python 3 Division__\n",
    "* Float division\n",
    "    * a / b\n",
    "* Integer division \n",
    "    * a // b\n",
    "\n",
    "To get Python 3 division in Python 2:\n",
    "\n",
    "`from __future__ import division`\n"
   ]
  },
  {
   "cell_type": "markdown",
   "metadata": {
    "slideshow": {
     "slide_type": "slide"
    }
   },
   "source": [
    "# Functions Part 1"
   ]
  },
  {
   "cell_type": "code",
   "execution_count": 9,
   "metadata": {
    "collapsed": false,
    "slideshow": {
     "slide_type": "fragment"
    }
   },
   "outputs": [
    {
     "data": {
      "text/plain": [
       "3.14159"
      ]
     },
     "execution_count": 9,
     "metadata": {},
     "output_type": "execute_result"
    }
   ],
   "source": [
    "# Function definition:\n",
    "def pi():\n",
    "    return 3.14159\n",
    "\n",
    "# Calling Function:\n",
    "pi()"
   ]
  },
  {
   "cell_type": "code",
   "execution_count": 13,
   "metadata": {
    "collapsed": false,
    "slideshow": {
     "slide_type": "fragment"
    }
   },
   "outputs": [
    {
     "name": "stdout",
     "output_type": "stream",
     "text": [
      "8\n",
      "10\n"
     ]
    }
   ],
   "source": [
    "# Function with arguments:\n",
    "def plustwo(x):\n",
    "    newx = x+2\n",
    "    return newx\n",
    "\n",
    "# Calling Function:\n",
    "number = 8\n",
    "print(number)\n",
    "print(plustwo(8))"
   ]
  },
  {
   "cell_type": "markdown",
   "metadata": {
    "slideshow": {
     "slide_type": "slide"
    }
   },
   "source": [
    "# Containers"
   ]
  },
  {
   "cell_type": "markdown",
   "metadata": {
    "slideshow": {
     "slide_type": "fragment"
    }
   },
   "source": [
    "* Tuples\n",
    "* Lists\n",
    "* Strings\n",
    "* Dictionaries\n",
    "\n",
    "For __tuples__, __lists__, and __strings__: \n",
    "* Elements are accessed by container[index], starting at index = 0\n",
    "\n",
    "For __dictionaries__:\n",
    "* Elements are accessed by container[key], where key can be any data type."
   ]
  },
  {
   "cell_type": "markdown",
   "metadata": {
    "slideshow": {
     "slide_type": "subslide"
    }
   },
   "source": [
    "## Strings"
   ]
  },
  {
   "cell_type": "code",
   "execution_count": 17,
   "metadata": {
    "collapsed": true,
    "slideshow": {
     "slide_type": "fragment"
    }
   },
   "outputs": [],
   "source": [
    "# Several ways to define:\n",
    "a = 'spam'\n",
    "b = \"eggs\" \n",
    "c = \"\"\" triple quotes\n",
    "        preserve white space   \n",
    "        newlines \"\"\""
   ]
  },
  {
   "cell_type": "code",
   "execution_count": 27,
   "metadata": {
    "collapsed": false,
    "slideshow": {
     "slide_type": "fragment"
    }
   },
   "outputs": [
    {
     "name": "stdout",
     "output_type": "stream",
     "text": [
      "1\n",
      "1.0\n"
     ]
    }
   ],
   "source": [
    "# Casting:\n",
    "one = '1'\n",
    "print(int(one))\n",
    "print(float(one))"
   ]
  },
  {
   "cell_type": "code",
   "execution_count": 31,
   "metadata": {
    "collapsed": false,
    "slideshow": {
     "slide_type": "fragment"
    }
   },
   "outputs": [
    {
     "data": {
      "text/plain": [
       "'spameggs'"
      ]
     },
     "execution_count": 31,
     "metadata": {},
     "output_type": "execute_result"
    }
   ],
   "source": [
    "# String concatenation:\n",
    "a + b"
   ]
  },
  {
   "cell_type": "markdown",
   "metadata": {
    "slideshow": {
     "slide_type": "subslide"
    }
   },
   "source": [
    "## Tuples\n",
    "\n",
    "* Tuples contain references to objects\n",
    "* Their structure cannot be changed (cannot add or remove elements)\n",
    "* Uses parenthesis syntax ()\n"
   ]
  },
  {
   "cell_type": "code",
   "execution_count": 112,
   "metadata": {
    "collapsed": false,
    "slideshow": {
     "slide_type": "subslide"
    }
   },
   "outputs": [
    {
     "data": {
      "text/plain": [
       "'red'"
      ]
     },
     "execution_count": 112,
     "metadata": {},
     "output_type": "execute_result"
    }
   ],
   "source": [
    "mytuple = (1, 3, 'red')\n",
    "mytuple[2]\n"
   ]
  },
  {
   "cell_type": "code",
   "execution_count": 37,
   "metadata": {
    "collapsed": false,
    "slideshow": {
     "slide_type": "subslide"
    }
   },
   "outputs": [
    {
     "name": "stdout",
     "output_type": "stream",
     "text": [
      "args: 1 3 red\n"
     ]
    }
   ],
   "source": [
    "# Argument unpacking:\n",
    "def somefunction(num1, num2, color):\n",
    "    # Do something\n",
    "    print('args:', num1, num2, color)\n",
    "    return\n",
    "\n",
    "# *mytuple unpacks the tuple and passes each element as an argument\n",
    "somefunction(*mytuple)\n"
   ]
  },
  {
   "cell_type": "markdown",
   "metadata": {
    "slideshow": {
     "slide_type": "subslide"
    }
   },
   "source": [
    "# Lists\n",
    "* Lists are resizable (pop/remove, append/extend)\n",
    "* Lists use brackets syntax []"
   ]
  },
  {
   "cell_type": "code",
   "execution_count": 39,
   "metadata": {
    "collapsed": false,
    "slideshow": {
     "slide_type": "fragment"
    }
   },
   "outputs": [
    {
     "data": {
      "text/plain": [
       "20"
      ]
     },
     "execution_count": 39,
     "metadata": {},
     "output_type": "execute_result"
    }
   ],
   "source": [
    "mylist = [10, 20, 30]\n",
    "mylist[1]"
   ]
  },
  {
   "cell_type": "code",
   "execution_count": 79,
   "metadata": {
    "collapsed": false,
    "slideshow": {
     "slide_type": "subslide"
    }
   },
   "outputs": [
    {
     "name": "stdout",
     "output_type": "stream",
     "text": [
      "[10, 20, 30, 40]\n",
      "[10, 20, 30, 40, 50]\n"
     ]
    }
   ],
   "source": [
    "# Adding elements to a list\n",
    "mylist = [10, 20, 30]\n",
    "\n",
    "# Append\n",
    "mylist.append(40) # append element to end of list\n",
    "print(mylist)\n",
    "\n",
    "# Concatenate\n",
    "print(mylist+[50])"
   ]
  },
  {
   "cell_type": "code",
   "execution_count": 80,
   "metadata": {
    "collapsed": false,
    "slideshow": {
     "slide_type": "fragment"
    }
   },
   "outputs": [
    {
     "name": "stdout",
     "output_type": "stream",
     "text": [
      "[10, 20]\n",
      "number popped: 30\n"
     ]
    }
   ],
   "source": [
    "# Removing elements to a list\n",
    "mylist = [10, 20, 30]\n",
    "\n",
    "# Pop\n",
    "popped = mylist.pop(2) # remove and return given element from list\n",
    "print(mylist)\n",
    "print('number popped:', popped)"
   ]
  },
  {
   "cell_type": "code",
   "execution_count": 72,
   "metadata": {
    "collapsed": false,
    "slideshow": {
     "slide_type": "subslide"
    }
   },
   "outputs": [
    {
     "name": "stdout",
     "output_type": "stream",
     "text": [
      "[0, 1, 2, 3, 4, 5, 6, 7, 8, 9]\n"
     ]
    }
   ],
   "source": [
    "# Slicing with lists and tuples\n",
    "mylist = [0,1,2,3,4,5,6,7,8,9]\n",
    "print(mylist)\n",
    "\n",
    "# Slicing syntax: \n",
    "#    L[start : end : increment]\n",
    "#    start <= i < end; i += increment"
   ]
  },
  {
   "cell_type": "code",
   "execution_count": 70,
   "metadata": {
    "collapsed": false,
    "slideshow": {
     "slide_type": "fragment"
    }
   },
   "outputs": [
    {
     "name": "stdout",
     "output_type": "stream",
     "text": [
      "[2, 3, 4, 5]\n",
      "[2, 3, 4, 5]\n"
     ]
    }
   ],
   "source": [
    "# Slice list from element 2 up until element 6 at increments of 1\n",
    "print(mylist[2:6:1])\n",
    "\n",
    "# Default increment is 1 (same as above)\n",
    "print(mylist[2:6])"
   ]
  },
  {
   "cell_type": "code",
   "execution_count": 71,
   "metadata": {
    "collapsed": false,
    "slideshow": {
     "slide_type": "fragment"
    }
   },
   "outputs": [
    {
     "name": "stdout",
     "output_type": "stream",
     "text": [
      "[0, 2, 4, 6, 8]\n",
      "[1, 3, 5, 7, 9]\n"
     ]
    }
   ],
   "source": [
    "# Every odd element index:\n",
    "print(mylist[::2])\n",
    "\n",
    "# Every even element index:\n",
    "print(mylist[1::2])"
   ]
  },
  {
   "cell_type": "markdown",
   "metadata": {
    "slideshow": {
     "slide_type": "subslide"
    }
   },
   "source": [
    "### When to use tuples instead of lists?\n",
    "* When working with a well-defined structure\n",
    "* Usage of tuples is generally faster (compared to lists)\n",
    "* There is a strong culture to use tuples for heterogenous data (like a C struct)\n",
    "* Convenient way of passing multiple objects"
   ]
  },
  {
   "cell_type": "markdown",
   "metadata": {
    "slideshow": {
     "slide_type": "subslide"
    }
   },
   "source": [
    "# Dictionaries\n",
    "* Key-value pairs\n",
    "* Any type can be a key or value\n",
    "* Uses {} or dict() syntax\n"
   ]
  },
  {
   "cell_type": "code",
   "execution_count": 99,
   "metadata": {
    "collapsed": false,
    "slideshow": {
     "slide_type": "fragment"
    }
   },
   "outputs": [
    {
     "name": "stdout",
     "output_type": "stream",
     "text": [
      "1\n"
     ]
    }
   ],
   "source": [
    "# Initializing a dictionary with 2 key-value pairs\n",
    "Protons = {'Oxygen': 8, 'Hydrogen': 1}\n",
    "\n",
    "# Adding a key-value pair\n",
    "Protons['Carbon'] = 6\n",
    "\n",
    "# Looking a value up by key:\n",
    "\n",
    "print(Protons['Hydrogen'])"
   ]
  },
  {
   "cell_type": "code",
   "execution_count": 103,
   "metadata": {
    "collapsed": false,
    "slideshow": {
     "slide_type": "fragment"
    }
   },
   "outputs": [
    {
     "name": "stdout",
     "output_type": "stream",
     "text": [
      "1\n"
     ]
    }
   ],
   "source": [
    "# Alternate syntax:\n",
    "# Constructed from a list of tuples containing the key-value pairs\n",
    "Protons = dict([('Oxygen', 8), ('Hydrogen', 1)])\n",
    "print(Protons['Hydrogen'])"
   ]
  },
  {
   "cell_type": "markdown",
   "metadata": {
    "slideshow": {
     "slide_type": "slide"
    }
   },
   "source": [
    "# Structured Blocks\n",
    "\n",
    "* if/elif/else statements\n",
    "* while loops\n",
    "* for loops\n",
    "\n",
    "Like functions, structure blocks also require indentation"
   ]
  },
  {
   "cell_type": "markdown",
   "metadata": {
    "slideshow": {
     "slide_type": "fragment"
    }
   },
   "source": [
    "Comparators:\n",
    "\n",
    "* ==\n",
    "* !=\n",
    "* >\n",
    "* <\n",
    "* <=\n",
    "* \\>=\n",
    "\n",
    "Boolean Operations:\n",
    "\n",
    "* not\n",
    "* and\n",
    "* or"
   ]
  },
  {
   "cell_type": "code",
   "execution_count": 81,
   "metadata": {
    "collapsed": false,
    "slideshow": {
     "slide_type": "subslide"
    }
   },
   "outputs": [
    {
     "name": "stdout",
     "output_type": "stream",
     "text": [
      "a is smaller\n"
     ]
    }
   ],
   "source": [
    "# if/elif/else statement\n",
    "a = 1\n",
    "b = 2\n",
    "\n",
    "if a < b:\n",
    "    print('a is smaller')\n",
    "elif a > b:\n",
    "    print('a is larger')\n",
    "else:\n",
    "    print('a must equal b')"
   ]
  },
  {
   "cell_type": "code",
   "execution_count": 82,
   "metadata": {
    "collapsed": false,
    "slideshow": {
     "slide_type": "subslide"
    }
   },
   "outputs": [
    {
     "name": "stdout",
     "output_type": "stream",
     "text": [
      "1\n",
      "2\n",
      "3\n",
      "4\n",
      "5\n"
     ]
    }
   ],
   "source": [
    "# while loop\n",
    "c = 0\n",
    "\n",
    "while c < 5:\n",
    "    c = c + 1\n",
    "    print(c)"
   ]
  },
  {
   "cell_type": "code",
   "execution_count": 86,
   "metadata": {
    "collapsed": false,
    "slideshow": {
     "slide_type": "subslide"
    }
   },
   "outputs": [
    {
     "name": "stdout",
     "output_type": "stream",
     "text": [
      "0\n",
      "1\n",
      "2\n",
      "3\n",
      "4\n"
     ]
    }
   ],
   "source": [
    "# for loop\n",
    "for i in [0,1,2,3,4]:\n",
    "    print(i)\n"
   ]
  },
  {
   "cell_type": "code",
   "execution_count": 91,
   "metadata": {
    "collapsed": false,
    "slideshow": {
     "slide_type": "subslide"
    }
   },
   "outputs": [
    {
     "name": "stdout",
     "output_type": "stream",
     "text": [
      "0\n",
      "1\n",
      "2\n",
      "3\n",
      "4\n",
      "mysum = 25\n"
     ]
    }
   ],
   "source": [
    "# range function:\n",
    "for i in range(5):\n",
    "    print(i)\n",
    "    \n",
    "# range syntax: range(start, end, increment)\n",
    "\n",
    "# Sum odd numbers between 1 and 10\n",
    "mysum = 0\n",
    "for i in range(1,10,2):\n",
    "    mysum += i\n",
    "print('mysum =', mysum)"
   ]
  },
  {
   "cell_type": "markdown",
   "metadata": {
    "slideshow": {
     "slide_type": "slide"
    }
   },
   "source": [
    "# Exercises Part 1"
   ]
  },
  {
   "cell_type": "markdown",
   "metadata": {
    "slideshow": {
     "slide_type": "slide"
    }
   },
   "source": [
    "# Functions Part 2"
   ]
  },
  {
   "cell_type": "markdown",
   "metadata": {
    "slideshow": {
     "slide_type": "subslide"
    }
   },
   "source": [
    "## Function Scope\n",
    "\n",
    "Python functions follow LEGB scope resolution rules:\n",
    "\n",
    "* L - Local (names assigned within function)\n",
    "* E - Enclosing function locals (names assigned within any enclosing function)\n",
    "* G - Global (Names assigned at the top level of a module file)\n",
    "* B - Built-in (Pre-assigned names in Python)\n"
   ]
  },
  {
   "cell_type": "code",
   "execution_count": 105,
   "metadata": {
    "collapsed": false,
    "slideshow": {
     "slide_type": "fragment"
    }
   },
   "outputs": [
    {
     "data": {
      "text/plain": [
       "12"
      ]
     },
     "execution_count": 105,
     "metadata": {},
     "output_type": "execute_result"
    }
   ],
   "source": [
    "y = 2\n",
    "\n",
    "def foo(x):\n",
    "    # y is defined outside function scope, but we still have access\n",
    "    x += y\n",
    "    return x\n",
    "\n",
    "foo(10)"
   ]
  },
  {
   "cell_type": "code",
   "execution_count": 107,
   "metadata": {
    "collapsed": false,
    "slideshow": {
     "slide_type": "subslide"
    }
   },
   "outputs": [
    {
     "name": "stdout",
     "output_type": "stream",
     "text": [
      "20 2\n",
      "20 10\n"
     ]
    }
   ],
   "source": [
    "# Cannot modify unpassed variables outside scope unless using `global`\n",
    "y = 2\n",
    "def localy(x):\n",
    "    y = 10\n",
    "    x += y\n",
    "    return x\n",
    "\n",
    "# y is still 2\n",
    "print(localy(10), y)\n",
    "    \n",
    "def globaly(x):\n",
    "    # Give globaly function access to variable y\n",
    "    global y\n",
    "    y = 10\n",
    "    x += y\n",
    "    return x\n",
    "\n",
    "# y is now modified, \n",
    "print(globaly(10), y)\n",
    "    \n",
    "    "
   ]
  },
  {
   "cell_type": "markdown",
   "metadata": {
    "slideshow": {
     "slide_type": "subslide"
    }
   },
   "source": [
    "## Pass-by-object-reference\n",
    "* All function arguments are \"passed-by-object-reference\"\n",
    "    * Variables do not have values, objects do"
   ]
  },
  {
   "cell_type": "markdown",
   "metadata": {
    "slideshow": {
     "slide_type": "slide"
    }
   },
   "source": [
    "# Mutability\n",
    " \n",
    "Mutable objects get created and destroyed upon assignment and collection\n",
    "* Strings\n",
    "* Numbers\n",
    "* Tuples\n",
    "\n",
    "Mutable objects create references to contained objects upon assignment\n",
    "* Lists\n",
    "* Dictionaries"
   ]
  },
  {
   "cell_type": "code",
   "execution_count": 108,
   "metadata": {
    "collapsed": true,
    "slideshow": {
     "slide_type": "subslide"
    }
   },
   "outputs": [],
   "source": [
    "# Example demonstrating mutability"
   ]
  },
  {
   "cell_type": "markdown",
   "metadata": {
    "slideshow": {
     "slide_type": "slide"
    }
   },
   "source": [
    "# Object Oriented Programming in Python\n",
    "\n",
    "Classes are the key features of object-oriented programming. \n",
    "\n",
    "A class is a structure for representing an object and the operations that can be performed on the object.\n",
    "\n",
    "In Python a class can contain attributes (variables) and methods (functions).\n",
    "\n",
    "A key benefit: code such as functions and related variables are grouped in separate and independent entities."
   ]
  },
  {
   "cell_type": "code",
   "execution_count": 114,
   "metadata": {
    "collapsed": true,
    "slideshow": {
     "slide_type": "subslide"
    }
   },
   "outputs": [],
   "source": [
    "class Point(object):\n",
    "    \"\"\"\n",
    "    Simple class for representing a point in a Cartesian coordinate system.\n",
    "    \"\"\"\n",
    "    \n",
    "    def __init__(self, x, y):\n",
    "        \"\"\"\n",
    "        Create a new Point at x, y.\n",
    "        \"\"\"\n",
    "        self.x = x\n",
    "        self.y = y\n",
    "        \n",
    "    def translate(self, dx, dy):\n",
    "        \"\"\"\n",
    "        Translate the point by dx and dy in the x and y direction.\n",
    "        \"\"\"\n",
    "        self.x += dx\n",
    "        self.y += dy\n",
    "        \n",
    "    def __str__(self):\n",
    "        return(\"Point at [%f, %f]\" % (self.x, self.y))"
   ]
  },
  {
   "cell_type": "code",
   "execution_count": 116,
   "metadata": {
    "collapsed": false,
    "slideshow": {
     "slide_type": "fragment"
    }
   },
   "outputs": [
    {
     "name": "stdout",
     "output_type": "stream",
     "text": [
      "Point at [0.000000, 0.000000]\n",
      "Point at [1.000000, 1.500000]\n"
     ]
    }
   ],
   "source": [
    "# Creating an instance of the class (instantiating)\n",
    "p1 = Point(0, 0)\n",
    "print(p1)\n",
    "p1.translate(1, 1.5)\n",
    "print(p1)"
   ]
  },
  {
   "cell_type": "markdown",
   "metadata": {
    "slideshow": {
     "slide_type": "slide"
    }
   },
   "source": [
    "# Modules and Packages\n",
    "Any Python file that you can import is called a Python module\n",
    "\n",
    "A collection of python modules under the same namespace is known as a package"
   ]
  },
  {
   "cell_type": "code",
   "execution_count": 142,
   "metadata": {
    "collapsed": false,
    "slideshow": {
     "slide_type": "subslide"
    }
   },
   "outputs": [
    {
     "data": {
      "text/plain": [
       "'3.5.0a3 (v3.5.0a3:82656e28b5e5, Mar 29 2015, 15:59:31) \\n[GCC 4.2.1 (Apple Inc. build 5666) (dot 3)]'"
      ]
     },
     "execution_count": 142,
     "metadata": {},
     "output_type": "execute_result"
    }
   ],
   "source": [
    "# sys a built-in module\n",
    "import sys\n",
    "sys.version"
   ]
  },
  {
   "cell_type": "code",
   "execution_count": 134,
   "metadata": {
    "collapsed": false,
    "slideshow": {
     "slide_type": "subslide"
    }
   },
   "outputs": [
    {
     "name": "stdout",
     "output_type": "stream",
     "text": [
      "Overwriting mymodule.py\n"
     ]
    }
   ],
   "source": [
    "%%file mymodule.py\n",
    "\"\"\"\n",
    "Example of a python module that can be executed from commandline or imported by another python module.\n",
    "\"\"\"\n",
    "\n",
    "def main():\n",
    "    # Do something important\n",
    "    print(\"Important thing done\")\n",
    "\n",
    "\n",
    "def somefunction():\n",
    "    # Do something else important\n",
    "    print(\"Other important thing done\")\n",
    "    \n",
    "        \n",
    "if __name__ == '__main__':\n",
    "    main()"
   ]
  },
  {
   "cell_type": "code",
   "execution_count": 147,
   "metadata": {
    "collapsed": false,
    "slideshow": {
     "slide_type": "subslide"
    }
   },
   "outputs": [
    {
     "name": "stdout",
     "output_type": "stream",
     "text": [
      "Important thing done\n"
     ]
    }
   ],
   "source": [
    "# Standard importing of module\n",
    "import mymodule\n",
    "mymodule.main()"
   ]
  },
  {
   "cell_type": "code",
   "execution_count": 149,
   "metadata": {
    "collapsed": false,
    "slideshow": {
     "slide_type": "fragment"
    }
   },
   "outputs": [
    {
     "name": "stdout",
     "output_type": "stream",
     "text": [
      "Other important thing done\n"
     ]
    }
   ],
   "source": [
    "# Directly import module's symbol table\n",
    "from mymodule import somefunction\n",
    "somefunction()"
   ]
  },
  {
   "cell_type": "code",
   "execution_count": 151,
   "metadata": {
    "collapsed": true,
    "slideshow": {
     "slide_type": "fragment"
    }
   },
   "outputs": [],
   "source": [
    "# Imports all names except those beginning in underscore (_)\n",
    "# Generally considered bad practice\n",
    "from mymodule import *"
   ]
  },
  {
   "cell_type": "markdown",
   "metadata": {
    "slideshow": {
     "slide_type": "subslide"
    }
   },
   "source": [
    "The module search path:\n",
    "\n",
    "1. Current directory\n",
    "*  \\$PYTHONPATH\n",
    "*  installation-dependent default"
   ]
  },
  {
   "cell_type": "markdown",
   "metadata": {
    "slideshow": {
     "slide_type": "slide"
    }
   },
   "source": [
    "# Exercises Part 2 / Lunch"
   ]
  },
  {
   "cell_type": "markdown",
   "metadata": {
    "slideshow": {
     "slide_type": "slide"
    }
   },
   "source": [
    "# Resources\n",
    "* Python Docs Introduction\n",
    "    * https://docs.python.org/2/tutorial/introduction.html\n",
    "* Google Python Introduction\n",
    "    * https://developers.google.com/edu/python/introduction\n",
    "* Robert Johhansson's Scientific Python Lectures\n",
    "    * http://nbviewer.ipython.org/github/jrjohansson/scientific-python-lectures/blob/master/Lecture-1-Introduction-to-Python-Programming.ipynb\n",
    "* SaM Python Workshop 2014 Slides:\n",
    "    * https://github.com/AlbertDeFusco/python"
   ]
  }
 ],
 "metadata": {
  "celltoolbar": "Slideshow",
  "kernelspec": {
   "display_name": "Python 3",
   "language": "python",
   "name": "python3"
  },
  "language_info": {
   "codemirror_mode": {
    "name": "ipython",
    "version": 3
   },
   "file_extension": ".py",
   "mimetype": "text/x-python",
   "name": "python",
   "nbconvert_exporter": "python",
   "pygments_lexer": "ipython3",
   "version": "3.5.0a3"
  }
 },
 "nbformat": 4,
 "nbformat_minor": 0
}
