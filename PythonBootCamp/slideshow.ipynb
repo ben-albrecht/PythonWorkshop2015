{
 "cells": [
  {
   "cell_type": "code",
   "execution_count": null,
   "metadata": {
    "collapsed": true,
    "slideshow": {
     "slide_type": "skip"
    }
   },
   "outputs": [],
   "source": [
    "from __future__ import print_function()"
   ]
  },
  {
   "cell_type": "markdown",
   "metadata": {
    "slideshow": {
     "slide_type": "slide"
    }
   },
   "source": [
    "# Introduction to Python\n",
    "\n",
    "## Ben Albrecht"
   ]
  },
  {
   "cell_type": "markdown",
   "metadata": {
    "slideshow": {
     "slide_type": "subslide"
    }
   },
   "source": [
    "## Objectives\n",
    "\n",
    "* Exposure to fundamentals of Python language\n",
    "    * What is Python?\n",
    "    * Basic principles of Python programming\n",
    "    * Apply Python outside of this workshop"
   ]
  },
  {
   "cell_type": "markdown",
   "metadata": {
    "slideshow": {
     "slide_type": "slide"
    }
   },
   "source": [
    "# About Python"
   ]
  },
  {
   "cell_type": "markdown",
   "metadata": {
    "slideshow": {
     "slide_type": "subslide"
    }
   },
   "source": [
    "Python is a quick and light general purpose programming language\n",
    "\n",
    "* dynamic casting\n",
    "    * There are no type declarations of variables, functions, or methods in source code.\n",
    "* interpreted implementation\n",
    "    * Bytecode compiled at runtime"
   ]
  },
  {
   "cell_type": "code",
   "execution_count": 3,
   "metadata": {
    "collapsed": true,
    "slideshow": {
     "slide_type": "fragment"
    }
   },
   "outputs": [],
   "source": [
    "somevariable = 42"
   ]
  },
  {
   "cell_type": "code",
   "execution_count": null,
   "metadata": {
    "collapsed": true,
    "slideshow": {
     "slide_type": "fragment"
    }
   },
   "outputs": [],
   "source": [
    "somevariable = 'Hello'"
   ]
  },
  {
   "cell_type": "markdown",
   "metadata": {
    "slideshow": {
     "slide_type": "subslide"
    }
   },
   "source": [
    "It is great for:\n",
    "\n",
    "* Quick scripts\n",
    "* Small-medium projects\n",
    "* Prototyping large projects\n",
    "* Scientific software (libraries & community)\n"
   ]
  },
  {
   "cell_type": "code",
   "execution_count": 25,
   "metadata": {
    "collapsed": false,
    "slideshow": {
     "slide_type": "subslide"
    }
   },
   "outputs": [
    {
     "name": "stdout",
     "output_type": "stream",
     "text": [
      "The Zen of Python, by Tim Peters\n",
      "\n",
      "Beautiful is better than ugly.\n",
      "Explicit is better than implicit.\n",
      "Simple is better than complex.\n",
      "Complex is better than complicated.\n",
      "Flat is better than nested.\n",
      "Sparse is better than dense.\n",
      "Readability counts.\n",
      "Special cases aren't special enough to break the rules.\n",
      "Although practicality beats purity.\n",
      "Errors should never pass silently.\n",
      "Unless explicitly silenced.\n",
      "In the face of ambiguity, refuse the temptation to guess.\n",
      "There should be one-- and preferably only one --obvious way to do it.\n",
      "Although that way may not be obvious at first unless you're Dutch.\n",
      "Now is better than never.\n",
      "Although never is often better than *right* now.\n",
      "If the implementation is hard to explain, it's a bad idea.\n",
      "If the implementation is easy to explain, it may be a good idea.\n",
      "Namespaces are one honking great idea -- let's do more of those!\n"
     ]
    }
   ],
   "source": [
    "import this"
   ]
  },
  {
   "cell_type": "markdown",
   "metadata": {
    "slideshow": {
     "slide_type": "slide"
    }
   },
   "source": [
    "# Jupyter\n",
    "\n",
    "Our *\"IDE\"* for the workshop\n",
    "\n",
    "Python application itself is an interactive REPL (Read-Eval-Print Loop)\n",
    "\n",
    "IPython is an extension to this interactive Python shell\n",
    "\n",
    "IPython Notebook is the JSON formatted version of IPython that runs in browser\n",
    "\n",
    "Jupyter is an extension of IPython Notebook that includes many other features and languages"
   ]
  },
  {
   "cell_type": "markdown",
   "metadata": {
    "slideshow": {
     "slide_type": "slide"
    }
   },
   "source": [
    "##  Help Tools\n",
    "\n",
    "__Built-in__\n",
    "\n",
    "* `help(object)`\n",
    "    * Companion function similar to man pages\n",
    "\n",
    "* `dir(object) ` \n",
    "    * Prints valid attributes of object\n",
    "\n",
    "__IPython__\n",
    "\n",
    "* `object?` \n",
    "    * Prints all known information about object\n",
    "* `object??`\n",
    "    * Shows source code where object is implemented\n",
    "* Tab-completion\n",
    "    * press tab and see what is available\n",
    "\n",
    "__The internet__"
   ]
  },
  {
   "cell_type": "markdown",
   "metadata": {
    "slideshow": {
     "slide_type": "slide"
    }
   },
   "source": [
    "# Basic Printing"
   ]
  },
  {
   "cell_type": "markdown",
   "metadata": {
    "slideshow": {
     "slide_type": "subslide"
    }
   },
   "source": [
    "## Python 2 Printing"
   ]
  },
  {
   "cell_type": "code",
   "execution_count": null,
   "metadata": {
    "collapsed": false,
    "slideshow": {
     "slide_type": "fragment"
    }
   },
   "outputs": [],
   "source": [
    "python_creator = 'Guido van Rossum'\n",
    "python_age = 24\n",
    "newest_version = 3.43\n",
    "\n",
    "print \"Python was created by %s\", % python_creator\n",
    "print \"Python was created\", python_age, \"years ago\"\n",
    "print 'The latest version of Python is {0:4d}'.format(newest_version)"
   ]
  },
  {
   "cell_type": "markdown",
   "metadata": {
    "slideshow": {
     "slide_type": "fragment"
    }
   },
   "source": [
    "### Python 3 Printing"
   ]
  },
  {
   "cell_type": "code",
   "execution_count": 201,
   "metadata": {
    "collapsed": false,
    "slideshow": {
     "slide_type": "fragment"
    }
   },
   "outputs": [
    {
     "name": "stdout",
     "output_type": "stream",
     "text": [
      "Python was created by Guido van Rossum\n",
      "Python was created 24 years ago\n",
      "The latest version of Python is 3.430\n"
     ]
    }
   ],
   "source": [
    "from __future__ import print_function  # This will import Python 3 style printing in Python 2\n",
    "python_creator = 'Guido van Rossum'\n",
    "python_age = 24\n",
    "newest_version = 3.43\n",
    "\n",
    "# Notice parenthesis\n",
    "\n",
    "print('Python was created by %s' % python_creator)\n",
    "print('Python was created', python_age, 'years ago')\n",
    "print('The latest version of Python is {0:.3f}'.format(newest_version))"
   ]
  },
  {
   "cell_type": "markdown",
   "metadata": {
    "slideshow": {
     "slide_type": "slide"
    }
   },
   "source": [
    "# Numerical Objects"
   ]
  },
  {
   "cell_type": "code",
   "execution_count": 6,
   "metadata": {
    "collapsed": false,
    "slideshow": {
     "slide_type": "fragment"
    }
   },
   "outputs": [],
   "source": [
    "# Integer\n",
    "myinteger = 1\n",
    "\n",
    "# Float\n",
    "myfloat = 1.0"
   ]
  },
  {
   "cell_type": "code",
   "execution_count": 7,
   "metadata": {
    "collapsed": false,
    "slideshow": {
     "slide_type": "fragment"
    }
   },
   "outputs": [
    {
     "name": "stdout",
     "output_type": "stream",
     "text": [
      "1.5\n",
      "0.5\n"
     ]
    }
   ],
   "source": [
    "# Complex\n",
    "mycomplex = 1.5 + 0.5j\n",
    "print(mycomplex.real) # 1.5\n",
    "print(mycomplex.imag) # 0.5"
   ]
  },
  {
   "cell_type": "code",
   "execution_count": 8,
   "metadata": {
    "collapsed": false,
    "slideshow": {
     "slide_type": "fragment"
    }
   },
   "outputs": [],
   "source": [
    "# Type casts\n",
    "myfloat = float(myinteger)\n",
    "myinteger = int(myfloat)"
   ]
  },
  {
   "cell_type": "markdown",
   "metadata": {
    "slideshow": {
     "slide_type": "subslide"
    }
   },
   "source": [
    "Operators\n",
    "* Addition \n",
    "    * a \\+  b \n",
    "* Subtraction:  \n",
    "    * a \\- b   \n",
    "* Multiplication: \n",
    "    * a \\* b  \n",
    "* Exponentiation\n",
    "    * a\\*\\*b\n",
    "* Division \n",
    "    * a / b\n",
    "* Modulus\n",
    "    * a % b\n"
   ]
  },
  {
   "cell_type": "markdown",
   "metadata": {
    "slideshow": {
     "slide_type": "fragment"
    }
   },
   "source": [
    "__Python 3 Division__\n",
    "* Float division\n",
    "    * a / b\n",
    "* Integer division \n",
    "    * a // b\n",
    "\n",
    "To get Python 3 division in Python 2:\n",
    "\n",
    "`from __future__ import division`\n"
   ]
  },
  {
   "cell_type": "markdown",
   "metadata": {
    "slideshow": {
     "slide_type": "slide"
    }
   },
   "source": [
    "# Functions Part 1"
   ]
  },
  {
   "cell_type": "code",
   "execution_count": 162,
   "metadata": {
    "collapsed": false,
    "slideshow": {
     "slide_type": "fragment"
    }
   },
   "outputs": [
    {
     "data": {
      "text/plain": [
       "3.14159"
      ]
     },
     "execution_count": 162,
     "metadata": {},
     "output_type": "execute_result"
    }
   ],
   "source": [
    "# Function definition:\n",
    "def pi():\n",
    "    return 3.14159\n",
    "\n",
    "# Calling Function:\n",
    "pi()"
   ]
  },
  {
   "cell_type": "code",
   "execution_count": 189,
   "metadata": {
    "collapsed": false,
    "slideshow": {
     "slide_type": "fragment"
    }
   },
   "outputs": [
    {
     "name": "stdout",
     "output_type": "stream",
     "text": [
      "number = 8\n",
      "add2(number) = 10\n"
     ]
    }
   ],
   "source": [
    "# Function with arguments:\n",
    "def add2(x):\n",
    "    xplus2 = x+2\n",
    "    return xplus2\n",
    "\n",
    "# Calling Function:\n",
    "number = 8\n",
    "print('number =', number)\n",
    "print('add2(number) =', add2(number))"
   ]
  },
  {
   "cell_type": "markdown",
   "metadata": {
    "slideshow": {
     "slide_type": "slide"
    }
   },
   "source": [
    "# Containers"
   ]
  },
  {
   "cell_type": "markdown",
   "metadata": {
    "slideshow": {
     "slide_type": "fragment"
    }
   },
   "source": [
    "* Tuples\n",
    "* Lists\n",
    "* Strings\n",
    "* Dictionaries\n",
    "\n",
    "For __tuples__, __lists__, and __strings__: \n",
    "* Elements are accessed by container[index], starting at index = 0\n",
    "\n",
    "For __dictionaries__:\n",
    "* Elements are accessed by container[key], where key can be any data type."
   ]
  },
  {
   "cell_type": "markdown",
   "metadata": {
    "slideshow": {
     "slide_type": "subslide"
    }
   },
   "source": [
    "## Strings"
   ]
  },
  {
   "cell_type": "code",
   "execution_count": 187,
   "metadata": {
    "collapsed": true,
    "slideshow": {
     "slide_type": "fragment"
    }
   },
   "outputs": [],
   "source": [
    "# Several ways to define:\n",
    "str1 = 'spam'\n",
    "str2 = \"eggs\" \n",
    "str3 = \"\"\" triple quotes\n",
    "        preserve white space   \n",
    "        newlines \"\"\"\n",
    "\n",
    "# Empty string\n",
    "str0 = ''"
   ]
  },
  {
   "cell_type": "code",
   "execution_count": 184,
   "metadata": {
    "collapsed": false,
    "slideshow": {
     "slide_type": "fragment"
    }
   },
   "outputs": [
    {
     "name": "stdout",
     "output_type": "stream",
     "text": [
      "132\n",
      "132.0\n"
     ]
    }
   ],
   "source": [
    "# Casting:\n",
    "str132 = '132'\n",
    "print(int(str132))\n",
    "print(float(str132))"
   ]
  },
  {
   "cell_type": "code",
   "execution_count": 185,
   "metadata": {
    "collapsed": false,
    "slideshow": {
     "slide_type": "subslide"
    }
   },
   "outputs": [
    {
     "data": {
      "text/plain": [
       "'spameggs'"
      ]
     },
     "execution_count": 185,
     "metadata": {},
     "output_type": "execute_result"
    }
   ],
   "source": [
    "# String Operations (These work with lists and tuples as well)\n",
    "\n",
    "# Concatenation:\n",
    "str1 + str2"
   ]
  },
  {
   "cell_type": "code",
   "execution_count": 186,
   "metadata": {
    "collapsed": false,
    "slideshow": {
     "slide_type": "fragment"
    }
   },
   "outputs": [
    {
     "data": {
      "text/plain": [
       "4"
      ]
     },
     "execution_count": 186,
     "metadata": {},
     "output_type": "execute_result"
    }
   ],
   "source": [
    "# Length\n",
    "len(str1)"
   ]
  },
  {
   "cell_type": "code",
   "execution_count": 177,
   "metadata": {
    "collapsed": false,
    "slideshow": {
     "slide_type": "fragment"
    }
   },
   "outputs": [
    {
     "name": "stdout",
     "output_type": "stream",
     "text": [
      "aAaAaAaAaAaAaAaAaAaA\n"
     ]
    }
   ],
   "source": [
    "# Repetition\n",
    "scream = 'aA'*10\n",
    "print(scream)"
   ]
  },
  {
   "cell_type": "code",
   "execution_count": 178,
   "metadata": {
    "collapsed": false,
    "slideshow": {
     "slide_type": "subslide"
    }
   },
   "outputs": [
    {
     "data": {
      "text/plain": [
       "True"
      ]
     },
     "execution_count": 178,
     "metadata": {},
     "output_type": "execute_result"
    }
   ],
   "source": [
    "# Membership\n",
    "'a' in scream"
   ]
  },
  {
   "cell_type": "markdown",
   "metadata": {
    "slideshow": {
     "slide_type": "subslide"
    }
   },
   "source": [
    "## Tuples\n",
    "\n",
    "* Tuples contain references to objects\n",
    "* Cannot add or remove elements (immutable)"
   ]
  },
  {
   "cell_type": "code",
   "execution_count": 165,
   "metadata": {
    "collapsed": false,
    "slideshow": {
     "slide_type": "subslide"
    }
   },
   "outputs": [],
   "source": [
    "# Creating tuples:\n",
    "tup1 = ('physics', 'chemistry', 1997, 2000)\n",
    "tup2 = (1, 2, 3, 4, 5 )\n",
    "tup3 = \"a\", \"b\", \"c\", \"d\"\n",
    "\n",
    "# Empty tuple\n",
    "tup0 = ()\n",
    "\n",
    "# Single element tuple still needs comma:\n",
    "tup4 = (50,)"
   ]
  },
  {
   "cell_type": "code",
   "execution_count": 179,
   "metadata": {
    "collapsed": false,
    "slideshow": {
     "slide_type": "subslide"
    }
   },
   "outputs": [
    {
     "data": {
      "text/plain": [
       "4"
      ]
     },
     "execution_count": 179,
     "metadata": {},
     "output_type": "execute_result"
    }
   ],
   "source": [
    "# Access elements\n",
    "tup1[0] # 1st element"
   ]
  },
  {
   "cell_type": "code",
   "execution_count": 181,
   "metadata": {
    "collapsed": true,
    "slideshow": {
     "slide_type": "fragment"
    }
   },
   "outputs": [],
   "source": [
    "# Common operations include length, concatenation, repetition, membership\n",
    "# Length, \n",
    "len(tup1) # length\n",
    "tup5 = tup1 + tup2\n",
    "# etc."
   ]
  },
  {
   "cell_type": "code",
   "execution_count": 219,
   "metadata": {
    "collapsed": false,
    "slideshow": {
     "slide_type": "subslide"
    }
   },
   "outputs": [
    {
     "name": "stdout",
     "output_type": "stream",
     "text": [
      "args unpacked: 1 2 red\n"
     ]
    }
   ],
   "source": [
    "# Cool feature: Argument Unpacking\n",
    "mytuple = (1, 2, 'red')\n",
    "def somefunction(num1, num2, color):\n",
    "    # Do something\n",
    "    print('args unpacked:', num1, num2, color)\n",
    "    return\n",
    "\n",
    "# *mytuple unpacks the tuple and passes each element as an argument\n",
    "# somefunction(*mytuple) -> translate to: somefunction(1, 2, 'red')\n",
    "somefunction(*mytuple)\n"
   ]
  },
  {
   "cell_type": "markdown",
   "metadata": {
    "slideshow": {
     "slide_type": "subslide"
    }
   },
   "source": [
    "# Lists\n",
    "* Lists are resizable (pop/remove, append/extend)\n",
    "* Typically homogeneous data"
   ]
  },
  {
   "cell_type": "code",
   "execution_count": 220,
   "metadata": {
    "collapsed": false,
    "slideshow": {
     "slide_type": "fragment"
    }
   },
   "outputs": [
    {
     "name": "stdout",
     "output_type": "stream",
     "text": [
      "20\n",
      "30\n"
     ]
    }
   ],
   "source": [
    "mylist = [10, 20, 30]\n",
    "print(mylist[1])\n",
    "\n",
    "# [-1] refers to last element, [-2] second to last, ...\n",
    "print(mylist[-1])"
   ]
  },
  {
   "cell_type": "code",
   "execution_count": 79,
   "metadata": {
    "collapsed": false,
    "slideshow": {
     "slide_type": "subslide"
    }
   },
   "outputs": [
    {
     "name": "stdout",
     "output_type": "stream",
     "text": [
      "[10, 20, 30, 40]\n",
      "[10, 20, 30, 40, 50]\n"
     ]
    }
   ],
   "source": [
    "# Adding elements to a list\n",
    "mylist = [10, 20, 30]\n",
    "\n",
    "# Append\n",
    "mylist.append(40) # append element to end of list\n",
    "print(mylist)\n",
    "\n",
    "# Concatenate\n",
    "print(mylist+[50])"
   ]
  },
  {
   "cell_type": "code",
   "execution_count": 80,
   "metadata": {
    "collapsed": false,
    "slideshow": {
     "slide_type": "fragment"
    }
   },
   "outputs": [
    {
     "name": "stdout",
     "output_type": "stream",
     "text": [
      "[10, 20]\n",
      "number popped: 30\n"
     ]
    }
   ],
   "source": [
    "# Removing elements to a list\n",
    "mylist = [10, 20, 30]\n",
    "\n",
    "# Pop\n",
    "popped = mylist.pop(2) # remove and return given element from list\n",
    "print(mylist)\n",
    "print('number popped:', popped)"
   ]
  },
  {
   "cell_type": "code",
   "execution_count": 72,
   "metadata": {
    "collapsed": false,
    "slideshow": {
     "slide_type": "subslide"
    }
   },
   "outputs": [
    {
     "name": "stdout",
     "output_type": "stream",
     "text": [
      "[0, 1, 2, 3, 4, 5, 6, 7, 8, 9]\n"
     ]
    }
   ],
   "source": [
    "# Slicing with lists and tuples\n",
    "mylist = [0,1,2,3,4,5,6,7,8,9]\n",
    "print(mylist)\n",
    "\n",
    "# Slicing syntax: \n",
    "#    L[start : end : increment]\n",
    "#    start <= i < end; i += increment"
   ]
  },
  {
   "cell_type": "code",
   "execution_count": 70,
   "metadata": {
    "collapsed": false,
    "slideshow": {
     "slide_type": "fragment"
    }
   },
   "outputs": [
    {
     "name": "stdout",
     "output_type": "stream",
     "text": [
      "[2, 3, 4, 5]\n",
      "[2, 3, 4, 5]\n"
     ]
    }
   ],
   "source": [
    "# Slice list from element 2 up until element 6 at increments of 1\n",
    "print(mylist[2:6:1])\n",
    "\n",
    "# Default increment is 1 (same as above)\n",
    "print(mylist[2:6])"
   ]
  },
  {
   "cell_type": "code",
   "execution_count": 71,
   "metadata": {
    "collapsed": false,
    "slideshow": {
     "slide_type": "fragment"
    }
   },
   "outputs": [
    {
     "name": "stdout",
     "output_type": "stream",
     "text": [
      "[0, 2, 4, 6, 8]\n",
      "[1, 3, 5, 7, 9]\n"
     ]
    }
   ],
   "source": [
    "# Every other element\n",
    "print(mylist[::2])\n",
    "\n",
    "# Every other element starting at 2nd element\n",
    "print(mylist[1::2])"
   ]
  },
  {
   "cell_type": "markdown",
   "metadata": {
    "slideshow": {
     "slide_type": "subslide"
    }
   },
   "source": [
    "### When to use tuples instead of lists?\n",
    "* When working with a well-defined structure\n",
    "* Usage of tuples is generally faster (compared to lists)\n",
    "* There is a strong culture to use tuples for heterogenous data (like a C struct)\n",
    "* Convenient way of passing multiple objects"
   ]
  },
  {
   "cell_type": "markdown",
   "metadata": {
    "slideshow": {
     "slide_type": "subslide"
    }
   },
   "source": [
    "# Dictionaries\n",
    "* Key-value pairs of any type\n"
   ]
  },
  {
   "cell_type": "code",
   "execution_count": 99,
   "metadata": {
    "collapsed": false,
    "slideshow": {
     "slide_type": "fragment"
    }
   },
   "outputs": [
    {
     "name": "stdout",
     "output_type": "stream",
     "text": [
      "1\n"
     ]
    }
   ],
   "source": [
    "# Initializing a dictionary with 2 key-value pairs\n",
    "Protons = {'Oxygen': 8, 'Hydrogen': 1}\n",
    "\n",
    "# Adding a key-value pair\n",
    "Protons['Carbon'] = 6\n",
    "\n",
    "# Looking a value up by key:\n",
    "\n",
    "print(Protons['Hydrogen'])"
   ]
  },
  {
   "cell_type": "code",
   "execution_count": 103,
   "metadata": {
    "collapsed": false,
    "slideshow": {
     "slide_type": "fragment"
    }
   },
   "outputs": [
    {
     "name": "stdout",
     "output_type": "stream",
     "text": [
      "1\n"
     ]
    }
   ],
   "source": [
    "# Alternate syntax:\n",
    "# Constructed from a list of tuples containing the key-value pairs\n",
    "Protons = dict([('Oxygen', 8), ('Hydrogen', 1)])\n",
    "print(Protons['Hydrogen'])"
   ]
  },
  {
   "cell_type": "markdown",
   "metadata": {
    "slideshow": {
     "slide_type": "slide"
    }
   },
   "source": [
    "# Structured Blocks\n",
    "\n",
    "* if/elif/else statements\n",
    "* while loops\n",
    "* for loops\n",
    "\n",
    "Like functions, structure blocks also require indentation"
   ]
  },
  {
   "cell_type": "markdown",
   "metadata": {
    "slideshow": {
     "slide_type": "fragment"
    }
   },
   "source": [
    "Comparators:\n",
    "\n",
    "* ==\n",
    "* !=\n",
    "* >\n",
    "* <\n",
    "* <=\n",
    "* \\>=\n",
    "\n",
    "Boolean Operations:\n",
    "\n",
    "* not\n",
    "* and\n",
    "* or"
   ]
  },
  {
   "cell_type": "code",
   "execution_count": 81,
   "metadata": {
    "collapsed": false,
    "slideshow": {
     "slide_type": "subslide"
    }
   },
   "outputs": [
    {
     "name": "stdout",
     "output_type": "stream",
     "text": [
      "a is smaller\n"
     ]
    }
   ],
   "source": [
    "# if/elif/else statement\n",
    "a = 1\n",
    "b = 2\n",
    "\n",
    "if a < b:\n",
    "    print('a is smaller')\n",
    "elif a > b:\n",
    "    print('a is larger')\n",
    "else:\n",
    "    print('a must equal b')"
   ]
  },
  {
   "cell_type": "code",
   "execution_count": 82,
   "metadata": {
    "collapsed": false,
    "slideshow": {
     "slide_type": "subslide"
    }
   },
   "outputs": [
    {
     "name": "stdout",
     "output_type": "stream",
     "text": [
      "1\n",
      "2\n",
      "3\n",
      "4\n",
      "5\n"
     ]
    }
   ],
   "source": [
    "# while loop\n",
    "c = 0\n",
    "\n",
    "while c < 5:\n",
    "    c = c + 1\n",
    "    print(c)"
   ]
  },
  {
   "cell_type": "code",
   "execution_count": 86,
   "metadata": {
    "collapsed": false,
    "slideshow": {
     "slide_type": "subslide"
    }
   },
   "outputs": [
    {
     "name": "stdout",
     "output_type": "stream",
     "text": [
      "0\n",
      "1\n",
      "2\n",
      "3\n",
      "4\n"
     ]
    }
   ],
   "source": [
    "# for loop\n",
    "for i in [0,1,2,3,4]:\n",
    "    print(i)\n"
   ]
  },
  {
   "cell_type": "markdown",
   "metadata": {
    "slideshow": {
     "slide_type": "fragment"
    }
   },
   "source": [
    "* 'in' operation known as membership operation\n",
    "* Most containers support membership operation"
   ]
  },
  {
   "cell_type": "code",
   "execution_count": 91,
   "metadata": {
    "collapsed": false,
    "slideshow": {
     "slide_type": "subslide"
    }
   },
   "outputs": [
    {
     "name": "stdout",
     "output_type": "stream",
     "text": [
      "0\n",
      "1\n",
      "2\n",
      "3\n",
      "4\n",
      "mysum = 25\n"
     ]
    }
   ],
   "source": [
    "# range function:\n",
    "for i in range(5):\n",
    "    print(i)\n",
    "    \n",
    "# range syntax: range(start, end, increment)\n",
    "\n",
    "# Sum odd numbers between 1 and 10\n",
    "mysum = 0\n",
    "for i in range(1,10,2):\n",
    "    mysum += i\n",
    "print('mysum =', mysum)"
   ]
  },
  {
   "cell_type": "markdown",
   "metadata": {
    "slideshow": {
     "slide_type": "slide"
    }
   },
   "source": [
    "# Exercises Part 1"
   ]
  },
  {
   "cell_type": "markdown",
   "metadata": {
    "slideshow": {
     "slide_type": "slide"
    }
   },
   "source": [
    "# Function Scope\n",
    "\n",
    "Python functions follow LEGB scope resolution rules:\n",
    "\n",
    "* L - Local\n",
    "* E - Enclosing function locals\n",
    "* G - Global\n",
    "* B - Built-in\n"
   ]
  },
  {
   "cell_type": "code",
   "execution_count": 211,
   "metadata": {
    "collapsed": false,
    "slideshow": {
     "slide_type": "fragment"
    }
   },
   "outputs": [
    {
     "data": {
      "text/plain": [
       "12"
      ]
     },
     "execution_count": 211,
     "metadata": {},
     "output_type": "execute_result"
    }
   ],
   "source": [
    "y = 2\n",
    "\n",
    "# y is defined outside function scope, but we still have access\n",
    "def add_y(x):\n",
    "    x += y\n",
    "    return x\n",
    "\n",
    "add_y(10)"
   ]
  },
  {
   "cell_type": "code",
   "execution_count": 209,
   "metadata": {
    "collapsed": false,
    "slideshow": {
     "slide_type": "subslide"
    }
   },
   "outputs": [
    {
     "name": "stdout",
     "output_type": "stream",
     "text": [
      "local_y 20 2\n",
      "global_y(10) 20 10\n"
     ]
    }
   ],
   "source": [
    "# Cannot modify unpassed variables outside scope unless using `global`\n",
    "y = 2\n",
    "def local_y(x):\n",
    "    y = 10\n",
    "    x += y\n",
    "    return x\n",
    "\n",
    "# y is still 2\n",
    "print('local_y', local_y(10), y)\n",
    "    \n",
    "def global_y(x):\n",
    "    # Give globaly function access to variable y\n",
    "    global y\n",
    "    y = 10\n",
    "    x += y\n",
    "    return x\n",
    "\n",
    "# y is now modified, \n",
    "print('global_y(10)', global_y(10), y)"
   ]
  },
  {
   "cell_type": "markdown",
   "metadata": {
    "slideshow": {
     "slide_type": "slide"
    }
   },
   "source": [
    "# Mutability\n",
    " \n",
    "Mutable objects get created and destroyed upon assignment and collection\n",
    "* Strings\n",
    "* Numbers\n",
    "* Tuples\n",
    "\n",
    "Mutable objects create references to contained objects upon assignment\n",
    "* Lists\n",
    "* Dictionaries"
   ]
  },
  {
   "cell_type": "markdown",
   "metadata": {
    "slideshow": {
     "slide_type": "subslide"
    }
   },
   "source": [
    "### Implications of Mutability\n",
    "* Function arguments are \"passed-by-object-reference\"\n",
    "    * Variables do not have values, objects do"
   ]
  },
  {
   "cell_type": "code",
   "execution_count": 218,
   "metadata": {
    "collapsed": false,
    "slideshow": {
     "slide_type": "fragment"
    }
   },
   "outputs": [
    {
     "name": "stdout",
     "output_type": "stream",
     "text": [
      "After reassignment: [0]\n",
      "After append: [0, 1]\n"
     ]
    }
   ],
   "source": [
    "# lists are mutable\n",
    "# If passed to a function, and function modifies list, it will be modified outside of function\n",
    "# If passed to a function, and function reassigns list, it will not be modified outside of function\n",
    "\n",
    "def reassign(mylist):\n",
    "  mylist = [0, 1]\n",
    "\n",
    "def append(list):\n",
    "  mylist.append(1)\n",
    "\n",
    "mylist = [0]\n",
    "reassign(mylist)\n",
    "print('After reassignment:', mylist)\n",
    "\n",
    "append(mylist)\n",
    "print('After append:', mylist)"
   ]
  },
  {
   "cell_type": "markdown",
   "metadata": {
    "slideshow": {
     "slide_type": "slide"
    }
   },
   "source": [
    "# Object Oriented Programming in Python\n",
    "\n",
    "* Focus on data, not the procedure\n",
    "* Encapsulate procedures with data\n",
    "* Create modular and maintainable code that can be reused\n",
    "\n"
   ]
  },
  {
   "cell_type": "markdown",
   "metadata": {
    "slideshow": {
     "slide_type": "fragment"
    }
   },
   "source": [
    "* __Class__\n",
    "    * Description of a *type* of object\n",
    "* __Object__\n",
    "    * The realization of the description\n",
    "    * An *instance* of a class\n",
    "\n",
    "In Python a class can contain attributes (variables) and methods (functions)."
   ]
  },
  {
   "cell_type": "markdown",
   "metadata": {
    "slideshow": {
     "slide_type": "subslide"
    }
   },
   "source": [
    "* __Classes__ define\n",
    "    * Attributes\n",
    "    * Methods\n",
    "* __Instances__ have\n",
    "    * data stored in attributes\n",
    "    * Methods to operate on the data\n",
    "* Object can interact with each other by passing attributes to methods"
   ]
  },
  {
   "cell_type": "code",
   "execution_count": 206,
   "metadata": {
    "collapsed": true,
    "slideshow": {
     "slide_type": "subslide"
    }
   },
   "outputs": [],
   "source": [
    "class Point(object):\n",
    "    \"\"\"\n",
    "    Simple class for representing a point in a Cartesian coordinate system.\n",
    "    \"\"\"\n",
    "    \n",
    "    def __init__(self, x, y):\n",
    "        \"\"\"\n",
    "        Create a new Point at x, y.\n",
    "        \"\"\"\n",
    "        self.x = x\n",
    "        self.y = y\n",
    "        \n",
    "    def translate(self, dx, dy):\n",
    "        \"\"\"\n",
    "        Translate the point by dx and dy in the x and y direction.\n",
    "        \"\"\"\n",
    "        self.x += dx\n",
    "        self.y += dy\n",
    "        \n",
    "    def __str__(self):\n",
    "        return(\"Point at [%f, %f]\" % (self.x, self.y))"
   ]
  },
  {
   "cell_type": "code",
   "execution_count": 116,
   "metadata": {
    "collapsed": false,
    "slideshow": {
     "slide_type": "fragment"
    }
   },
   "outputs": [
    {
     "name": "stdout",
     "output_type": "stream",
     "text": [
      "Point at [0.000000, 0.000000]\n",
      "Point at [1.000000, 1.500000]\n"
     ]
    }
   ],
   "source": [
    "# Creating an instance of the class (instantiating)\n",
    "p1 = Point(0, 0)\n",
    "print(p1)\n",
    "p1.translate(1, 1.5)\n",
    "print(p1)"
   ]
  },
  {
   "cell_type": "markdown",
   "metadata": {
    "slideshow": {
     "slide_type": "slide"
    }
   },
   "source": [
    "# Modules and Packages\n",
    "Any Python file that you can import is called a Python module\n",
    "\n",
    "A collection of python modules under the same namespace is known as a package"
   ]
  },
  {
   "cell_type": "code",
   "execution_count": 142,
   "metadata": {
    "collapsed": false,
    "slideshow": {
     "slide_type": "subslide"
    }
   },
   "outputs": [
    {
     "data": {
      "text/plain": [
       "'3.5.0a3 (v3.5.0a3:82656e28b5e5, Mar 29 2015, 15:59:31) \\n[GCC 4.2.1 (Apple Inc. build 5666) (dot 3)]'"
      ]
     },
     "execution_count": 142,
     "metadata": {},
     "output_type": "execute_result"
    }
   ],
   "source": [
    "# sys a built-in module\n",
    "import sys\n",
    "sys.version"
   ]
  },
  {
   "cell_type": "code",
   "execution_count": 221,
   "metadata": {
    "collapsed": false,
    "slideshow": {
     "slide_type": "subslide"
    }
   },
   "outputs": [
    {
     "name": "stdout",
     "output_type": "stream",
     "text": [
      "Overwriting mymodule.py\n"
     ]
    }
   ],
   "source": [
    "%%file mymodule.py\n",
    "#!/usr/bin/env python\n",
    "\"\"\"\n",
    "Example of a python module that can be executed from commandline or imported by another python module.\n",
    "\"\"\"\n",
    "\n",
    "def main():\n",
    "    # Do something important\n",
    "    print(\"Important thing done\")\n",
    "\n",
    "\n",
    "def somefunction():\n",
    "    # Do something else important\n",
    "    print(\"somefunction is completed\")\n",
    "    \n",
    "        \n",
    "if __name__ == '__main__':\n",
    "    main()"
   ]
  },
  {
   "cell_type": "code",
   "execution_count": 147,
   "metadata": {
    "collapsed": false,
    "slideshow": {
     "slide_type": "subslide"
    }
   },
   "outputs": [
    {
     "name": "stdout",
     "output_type": "stream",
     "text": [
      "Important thing done\n"
     ]
    }
   ],
   "source": [
    "# Standard importing of module\n",
    "import mymodule\n",
    "mymodule.main()"
   ]
  },
  {
   "cell_type": "code",
   "execution_count": 149,
   "metadata": {
    "collapsed": false,
    "slideshow": {
     "slide_type": "fragment"
    }
   },
   "outputs": [
    {
     "name": "stdout",
     "output_type": "stream",
     "text": [
      "Other important thing done\n"
     ]
    }
   ],
   "source": [
    "# Directly import module's symbol table\n",
    "from mymodule import somefunction\n",
    "somefunction()"
   ]
  },
  {
   "cell_type": "code",
   "execution_count": 151,
   "metadata": {
    "collapsed": true,
    "slideshow": {
     "slide_type": "fragment"
    }
   },
   "outputs": [],
   "source": [
    "# Imports all names except those beginning in underscore (_)\n",
    "# Generally considered bad practice\n",
    "from mymodule import *"
   ]
  },
  {
   "cell_type": "markdown",
   "metadata": {
    "slideshow": {
     "slide_type": "subslide"
    }
   },
   "source": [
    "The module search path:\n",
    "\n",
    "1. Current directory\n",
    "*  \\$PYTHONPATH\n",
    "*  installation-dependent default"
   ]
  },
  {
   "cell_type": "markdown",
   "metadata": {
    "slideshow": {
     "slide_type": "slide"
    }
   },
   "source": [
    "# Exercises Part 2 / Lunch"
   ]
  },
  {
   "cell_type": "markdown",
   "metadata": {
    "slideshow": {
     "slide_type": "slide"
    }
   },
   "source": [
    "# Resources\n",
    "* Python Docs Introduction\n",
    "    * https://docs.python.org/2/tutorial/introduction.html\n",
    "* Google Python Introduction\n",
    "    * https://developers.google.com/edu/python/introduction\n",
    "* Robert Johhansson's Scientific Python Lectures\n",
    "    * http://nbviewer.ipython.org/github/jrjohansson/scientific-python-lectures/blob/master/Lecture-1-Introduction-to-Python-Programming.ipynb\n",
    "* SaM Python Workshop 2014 Slides:\n",
    "    * https://github.com/AlbertDeFusco/python\n",
    "* Python Exercises\n",
    "    * http://www.ling.gu.se/~lager/python_exercises.html"
   ]
  }
 ],
 "metadata": {
  "celltoolbar": "Slideshow",
  "kernelspec": {
   "display_name": "Python 3",
   "language": "python",
   "name": "python3"
  },
  "language_info": {
   "codemirror_mode": {
    "name": "ipython",
    "version": 3
   },
   "file_extension": ".py",
   "mimetype": "text/x-python",
   "name": "python",
   "nbconvert_exporter": "python",
   "pygments_lexer": "ipython3",
   "version": "3.5.0a3"
  }
 },
 "nbformat": 4,
 "nbformat_minor": 0
}
