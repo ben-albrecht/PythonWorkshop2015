{
 "metadata": {
  "celltoolbar": "Slideshow",
  "kernelspec": {
   "display_name": "Python 3",
   "language": "python",
   "name": "python3"
  },
  "language_info": {
   "codemirror_mode": {
    "name": "ipython",
    "version": 3
   },
   "file_extension": ".py",
   "mimetype": "text/x-python",
   "name": "python",
   "nbconvert_exporter": "python",
   "pygments_lexer": "ipython3",
   "version": "3.5.0a3"
  },
  "name": "",
  "signature": "sha256:cfe8001c815901cc0ad8f9a0efca87ac1927b9443068792cbf23cc3cc1eb4e9e"
 },
 "nbformat": 3,
 "nbformat_minor": 0,
 "worksheets": [
  {
   "cells": [
    {
     "cell_type": "code",
     "collapsed": true,
     "input": [
      "from __future__ import print_function()"
     ],
     "language": "python",
     "metadata": {
      "slideshow": {
       "slide_type": "skip"
      }
     },
     "outputs": [],
     "prompt_number": null
    },
    {
     "cell_type": "markdown",
     "metadata": {
      "slideshow": {
       "slide_type": "slide"
      }
     },
     "source": [
      "## Schedule\n",
      "\n",
      "* 9:45am Breakfast\n",
      "* 10:00am Boot camp\n",
      "* 12:00pm Lunch on your own\n",
      "* 1:00pm Scientific Libraries\n",
      "* 2:30pm High Performance Python\n"
     ]
    },
    {
     "cell_type": "markdown",
     "metadata": {
      "slideshow": {
       "slide_type": "slide"
      }
     },
     "source": [
      "# Introduction to Python\n",
      "\n",
      "## Ben Albrecht"
     ]
    },
    {
     "cell_type": "markdown",
     "metadata": {
      "slideshow": {
       "slide_type": "subslide"
      }
     },
     "source": [
      "## Objectives\n",
      "\n",
      "* Exposure to fundamentals of Python language\n",
      "    * What is Python?\n",
      "    * Basic principles of Python programming\n",
      "    * Apply Python outside of this workshop"
     ]
    },
    {
     "cell_type": "heading",
     "level": 1,
     "metadata": {
      "slideshow": {
       "slide_type": "slide"
      }
     },
     "source": [
      "About Python"
     ]
    },
    {
     "cell_type": "markdown",
     "metadata": {
      "slideshow": {
       "slide_type": "subslide"
      }
     },
     "source": [
      "Python is a quick and light general purpose programming language\n",
      "\n",
      "* dynamic casting\n",
      "    * There are no type declarations of variables, functions, or methods in source code.\n",
      "* interpreted implementation\n",
      "    * Bytecode compiled at runtime"
     ]
    },
    {
     "cell_type": "code",
     "collapsed": true,
     "input": [
      "somevariable = 42"
     ],
     "language": "python",
     "metadata": {
      "slideshow": {
       "slide_type": "fragment"
      }
     },
     "outputs": [],
     "prompt_number": 3
    },
    {
     "cell_type": "code",
     "collapsed": true,
     "input": [
      "somevariable = 'Hello'"
     ],
     "language": "python",
     "metadata": {
      "slideshow": {
       "slide_type": "fragment"
      }
     },
     "outputs": [],
     "prompt_number": null
    },
    {
     "cell_type": "markdown",
     "metadata": {
      "slideshow": {
       "slide_type": "subslide"
      }
     },
     "source": [
      "It is great for:\n",
      "\n",
      "* Quick scripts\n",
      "* Small-medium projects\n",
      "* Prototyping large projects\n",
      "* Scientific software (libraries & community)\n"
     ]
    },
    {
     "cell_type": "code",
     "collapsed": false,
     "input": [
      "import this"
     ],
     "language": "python",
     "metadata": {
      "slideshow": {
       "slide_type": "subslide"
      }
     },
     "outputs": [
      {
       "output_type": "stream",
       "stream": "stdout",
       "text": [
        "The Zen of Python, by Tim Peters\n",
        "\n",
        "Beautiful is better than ugly.\n",
        "Explicit is better than implicit.\n",
        "Simple is better than complex.\n",
        "Complex is better than complicated.\n",
        "Flat is better than nested.\n",
        "Sparse is better than dense.\n",
        "Readability counts.\n",
        "Special cases aren't special enough to break the rules.\n",
        "Although practicality beats purity.\n",
        "Errors should never pass silently.\n",
        "Unless explicitly silenced.\n",
        "In the face of ambiguity, refuse the temptation to guess.\n",
        "There should be one-- and preferably only one --obvious way to do it.\n",
        "Although that way may not be obvious at first unless you're Dutch.\n",
        "Now is better than never.\n",
        "Although never is often better than *right* now.\n",
        "If the implementation is hard to explain, it's a bad idea.\n",
        "If the implementation is easy to explain, it may be a good idea.\n",
        "Namespaces are one honking great idea -- let's do more of those!\n"
       ]
      }
     ],
     "prompt_number": 25
    },
    {
     "cell_type": "markdown",
     "metadata": {
      "slideshow": {
       "slide_type": "slide"
      }
     },
     "source": [
      "# Jupyter\n",
      "\n",
      "Our *\"IDE\"* for the workshop\n",
      "\n",
      "Python application itself is an interactive REPL (Read-Eval-Print Loop)\n",
      "\n",
      "IPython is an extension to this native interactive Python shell\n",
      "\n",
      "IPython Notebook is the JSON formatted version of IPython that runs in browser\n",
      "\n",
      "Jupyter is an extension of IPython Notebook that includes many other features and languages"
     ]
    },
    {
     "cell_type": "markdown",
     "metadata": {
      "slideshow": {
       "slide_type": "subslide"
      }
     },
     "source": [
      "## Slides for this workshop:\n",
      "https://github.com/ben-albrecht/PythonWorkshop2015\n",
      "\n",
      "## These slides: PythonBootCamp/slideshow.slides.html\n",
      "https://github.com/ben-albrecht/PythonWorkshop2015/blob/master/PythonBootCamp/slideshow.ipynb\n",
      "\n",
      "## Exercises:  PythonBootCamp/Exercises.ipynb \n",
      "https://github.com/ben-albrecht/PythonWorkshop2015/blob/master/PythonBootCamp/Exercises.ipynb"
     ]
    },
    {
     "cell_type": "markdown",
     "metadata": {
      "slideshow": {
       "slide_type": "slide"
      }
     },
     "source": [
      "##  Help Tools\n",
      "\n",
      "__Built-in__\n",
      "\n",
      "* `help(object)`\n",
      "    * Companion function similar to man pages\n",
      "\n",
      "* `dir(object) ` \n",
      "    * Prints valid attributes of object\n",
      "\n",
      "__IPython__\n",
      "\n",
      "* `object?` \n",
      "    * Prints all known information about object\n",
      "* `object??`\n",
      "    * Shows source code where object is implemented\n",
      "* Tab-completion\n",
      "    * press tab and see what is available\n",
      "\n",
      "__The internet__"
     ]
    },
    {
     "cell_type": "heading",
     "level": 1,
     "metadata": {
      "slideshow": {
       "slide_type": "slide"
      }
     },
     "source": [
      "Basic Printing"
     ]
    },
    {
     "cell_type": "heading",
     "level": 2,
     "metadata": {
      "slideshow": {
       "slide_type": "subslide"
      }
     },
     "source": [
      "Python 2 Printing"
     ]
    },
    {
     "cell_type": "code",
     "collapsed": true,
     "input": [
      "print 'Hello World'"
     ],
     "language": "python",
     "metadata": {
      "slideshow": {
       "slide_type": "fragment"
      }
     },
     "outputs": [],
     "prompt_number": null
    },
    {
     "cell_type": "code",
     "collapsed": false,
     "input": [
      "python_creator = 'Guido van Rossum'\n",
      "python_age = 24\n",
      "\n",
      "print 'Python was created by', python_creator\n",
      "\n",
      "print 'Python was created {0:d} years ago'.format(python_age)"
     ],
     "language": "python",
     "metadata": {
      "slideshow": {
       "slide_type": "fragment"
      }
     },
     "outputs": [],
     "prompt_number": null
    },
    {
     "cell_type": "heading",
     "level": 3,
     "metadata": {
      "slideshow": {
       "slide_type": "fragment"
      }
     },
     "source": [
      "Python 3 Printing"
     ]
    },
    {
     "cell_type": "code",
     "collapsed": false,
     "input": [
      "# This will import Python 3 style printing in Python 2\n",
      "from __future__ import print_function  \n",
      "\n",
      "print('Hello World') # Notice parenthesis"
     ],
     "language": "python",
     "metadata": {
      "slideshow": {
       "slide_type": "subslide"
      }
     },
     "outputs": [
      {
       "output_type": "stream",
       "stream": "stdout",
       "text": [
        "Hello World\n"
       ]
      }
     ],
     "prompt_number": 222
    },
    {
     "cell_type": "code",
     "collapsed": false,
     "input": [
      "python_creator = 'Guido van Rossum'\n",
      "python_age = 24\n",
      "\n",
      "print('Python was created by', python_creator)\n",
      "\n",
      "print('Python was created {0} years ago'.format(python_age))"
     ],
     "language": "python",
     "metadata": {
      "slideshow": {
       "slide_type": "fragment"
      }
     },
     "outputs": [
      {
       "output_type": "stream",
       "stream": "stdout",
       "text": [
        "Python was created by Guido van Rossum\n",
        "Python was created 24 years ago\n"
       ]
      }
     ],
     "prompt_number": 225
    },
    {
     "cell_type": "heading",
     "level": 1,
     "metadata": {
      "slideshow": {
       "slide_type": "slide"
      }
     },
     "source": [
      "Numerical Objects"
     ]
    },
    {
     "cell_type": "code",
     "collapsed": false,
     "input": [
      "# Integer\n",
      "myinteger = 1\n",
      "\n",
      "# Float\n",
      "myfloat = 1.0"
     ],
     "language": "python",
     "metadata": {
      "slideshow": {
       "slide_type": "fragment"
      }
     },
     "outputs": [],
     "prompt_number": 6
    },
    {
     "cell_type": "code",
     "collapsed": false,
     "input": [
      "# Complex\n",
      "mycomplex = 1.5 + 0.5j\n",
      "print(mycomplex.real) # 1.5\n",
      "print(mycomplex.imag) # 0.5"
     ],
     "language": "python",
     "metadata": {
      "slideshow": {
       "slide_type": "fragment"
      }
     },
     "outputs": [
      {
       "output_type": "stream",
       "stream": "stdout",
       "text": [
        "1.5\n",
        "0.5\n"
       ]
      }
     ],
     "prompt_number": 7
    },
    {
     "cell_type": "code",
     "collapsed": false,
     "input": [
      "# Type casts\n",
      "myfloat = float(myinteger)\n",
      "myinteger = int(myfloat)"
     ],
     "language": "python",
     "metadata": {
      "slideshow": {
       "slide_type": "fragment"
      }
     },
     "outputs": [],
     "prompt_number": 8
    },
    {
     "cell_type": "markdown",
     "metadata": {
      "slideshow": {
       "slide_type": "subslide"
      }
     },
     "source": [
      "Operators\n",
      "* Addition \n",
      "    * a \\+  b \n",
      "* Subtraction:  \n",
      "    * a \\- b   \n",
      "* Multiplication: \n",
      "    * a \\* b  \n",
      "* Exponentiation\n",
      "    * a\\*\\*b\n",
      "* Division \n",
      "    * a / b\n",
      "* Modulus\n",
      "    * a % b\n"
     ]
    },
    {
     "cell_type": "markdown",
     "metadata": {
      "slideshow": {
       "slide_type": "fragment"
      }
     },
     "source": [
      "__Python 3 Division__\n",
      "* Float division\n",
      "    * a / b\n",
      "* Integer division \n",
      "    * a // b\n",
      "\n",
      "To get Python 3 division in Python 2:\n",
      "\n",
      "`from __future__ import division`\n"
     ]
    },
    {
     "cell_type": "heading",
     "level": 1,
     "metadata": {
      "slideshow": {
       "slide_type": "slide"
      }
     },
     "source": [
      "Basic Functions"
     ]
    },
    {
     "cell_type": "code",
     "collapsed": false,
     "input": [
      "# Function definition:\n",
      "def pi():\n",
      "    \"\"\"This function returns the value of pi\"\"\"\n",
      "    return 3.14159\n",
      "\n",
      "# Calling Function:\n",
      "pi()"
     ],
     "language": "python",
     "metadata": {
      "slideshow": {
       "slide_type": "fragment"
      }
     },
     "outputs": [
      {
       "metadata": {},
       "output_type": "pyout",
       "prompt_number": 256,
       "text": [
        "3.14159"
       ]
      }
     ],
     "prompt_number": 256
    },
    {
     "cell_type": "code",
     "collapsed": false,
     "input": [
      "help(pi)"
     ],
     "language": "python",
     "metadata": {
      "slideshow": {
       "slide_type": "fragment"
      }
     },
     "outputs": [
      {
       "output_type": "stream",
       "stream": "stdout",
       "text": [
        "Help on function pi in module __main__:\n",
        "\n",
        "pi()\n",
        "    This function returns the value of pi\n",
        "\n"
       ]
      }
     ],
     "prompt_number": 257
    },
    {
     "cell_type": "code",
     "collapsed": false,
     "input": [
      "# Function with arguments:\n",
      "def add2(x):\n",
      "    xplus2 = x+2\n",
      "    return xplus2\n",
      "\n",
      "# Calling Function:\n",
      "number = 8\n",
      "print('number =', number)\n",
      "print('add2(number) =', add2(number))"
     ],
     "language": "python",
     "metadata": {
      "slideshow": {
       "slide_type": "fragment"
      }
     },
     "outputs": [
      {
       "output_type": "stream",
       "stream": "stdout",
       "text": [
        "number = 8\n",
        "add2(number) = 10\n"
       ]
      }
     ],
     "prompt_number": 189
    },
    {
     "cell_type": "heading",
     "level": 1,
     "metadata": {
      "slideshow": {
       "slide_type": "slide"
      }
     },
     "source": [
      "Containers"
     ]
    },
    {
     "cell_type": "markdown",
     "metadata": {
      "slideshow": {
       "slide_type": "fragment"
      }
     },
     "source": [
      "* Tuples\n",
      "* Lists\n",
      "* Strings\n",
      "* Dictionaries\n",
      "\n",
      "For __tuples__, __lists__, and __strings__: \n",
      "* Elements are accessed by container[index], starting at index = 0\n",
      "\n",
      "For __dictionaries__:\n",
      "* Elements are accessed by container[key], where key can be any data type."
     ]
    },
    {
     "cell_type": "heading",
     "level": 2,
     "metadata": {
      "slideshow": {
       "slide_type": "subslide"
      }
     },
     "source": [
      "Strings"
     ]
    },
    {
     "cell_type": "code",
     "collapsed": false,
     "input": [
      "# Several ways to define:\n",
      "str1 = 'spam'\n",
      "str2 = \"eggs\" \n",
      "str3 = \"\"\" triple quotes\n",
      "        preserve white space   \n",
      "        newlines \"\"\"\n",
      "\n",
      "# Empty string\n",
      "str0 = ''\n",
      "\n",
      "# Special characters escaped with '\\'\n",
      "str4 = '\\'single quotes insides single quotes\\''\n",
      "print(str4)\n",
      "\n",
      "str5 = \"'single quotes inside double quotes'\"\n",
      "print(str5)"
     ],
     "language": "python",
     "metadata": {
      "slideshow": {
       "slide_type": "fragment"
      }
     },
     "outputs": [
      {
       "output_type": "stream",
       "stream": "stdout",
       "text": [
        "'single quotes insides single quotes'\n",
        "'single quotes inside double quotes'\n"
       ]
      }
     ],
     "prompt_number": 233
    },
    {
     "cell_type": "code",
     "collapsed": false,
     "input": [
      "# Casting:\n",
      "str132 = '132'\n",
      "print(int(str132))\n",
      "print(float(str132))"
     ],
     "language": "python",
     "metadata": {
      "slideshow": {
       "slide_type": "fragment"
      }
     },
     "outputs": [
      {
       "output_type": "stream",
       "stream": "stdout",
       "text": [
        "132\n",
        "132.0\n"
       ]
      }
     ],
     "prompt_number": 184
    },
    {
     "cell_type": "code",
     "collapsed": false,
     "input": [
      "# String Operations (These work with lists and tuples as well)\n",
      "\n",
      "# Concatenation:\n",
      "str1 + str2"
     ],
     "language": "python",
     "metadata": {
      "slideshow": {
       "slide_type": "subslide"
      }
     },
     "outputs": [
      {
       "metadata": {},
       "output_type": "pyout",
       "prompt_number": 185,
       "text": [
        "'spameggs'"
       ]
      }
     ],
     "prompt_number": 185
    },
    {
     "cell_type": "code",
     "collapsed": false,
     "input": [
      "# Length\n",
      "len(str1)"
     ],
     "language": "python",
     "metadata": {
      "slideshow": {
       "slide_type": "fragment"
      }
     },
     "outputs": [
      {
       "metadata": {},
       "output_type": "pyout",
       "prompt_number": 186,
       "text": [
        "4"
       ]
      }
     ],
     "prompt_number": 186
    },
    {
     "cell_type": "code",
     "collapsed": false,
     "input": [
      "# Repetition\n",
      "scream = 'aA'*10\n",
      "print(scream)"
     ],
     "language": "python",
     "metadata": {
      "slideshow": {
       "slide_type": "fragment"
      }
     },
     "outputs": [
      {
       "output_type": "stream",
       "stream": "stdout",
       "text": [
        "aAaAaAaAaAaAaAaAaAaA\n"
       ]
      }
     ],
     "prompt_number": 177
    },
    {
     "cell_type": "code",
     "collapsed": false,
     "input": [
      "# Membership\n",
      "'a' in scream"
     ],
     "language": "python",
     "metadata": {
      "slideshow": {
       "slide_type": "subslide"
      }
     },
     "outputs": [
      {
       "metadata": {},
       "output_type": "pyout",
       "prompt_number": 178,
       "text": [
        "True"
       ]
      }
     ],
     "prompt_number": 178
    },
    {
     "cell_type": "markdown",
     "metadata": {
      "slideshow": {
       "slide_type": "subslide"
      }
     },
     "source": [
      "## Tuples\n",
      "\n",
      "* Tuples contain references to objects\n",
      "* Cannot add or remove elements (immutable)"
     ]
    },
    {
     "cell_type": "code",
     "collapsed": false,
     "input": [
      "# Creating tuples:\n",
      "tup1 = ('physics', 'chemistry', 1997, 2000)\n",
      "tup2 = (1, 2, 3, 4, 5 )\n",
      "tup3 = \"a\", \"b\", \"c\", \"d\"\n",
      "\n",
      "# Empty tuple\n",
      "tup0 = ()\n",
      "\n",
      "# Single element tuple still needs comma:\n",
      "tup4 = (50,)"
     ],
     "language": "python",
     "metadata": {
      "slideshow": {
       "slide_type": "subslide"
      }
     },
     "outputs": [],
     "prompt_number": 165
    },
    {
     "cell_type": "code",
     "collapsed": false,
     "input": [
      "# Access elements\n",
      "tup1[0] # 1st element"
     ],
     "language": "python",
     "metadata": {
      "slideshow": {
       "slide_type": "subslide"
      }
     },
     "outputs": [
      {
       "metadata": {},
       "output_type": "pyout",
       "prompt_number": 179,
       "text": [
        "4"
       ]
      }
     ],
     "prompt_number": 179
    },
    {
     "cell_type": "code",
     "collapsed": true,
     "input": [
      "# Common operations include length, concatenation, repetition, membership\n",
      "# Length, \n",
      "len(tup1) # length\n",
      "tup5 = tup1 + tup2\n",
      "# etc."
     ],
     "language": "python",
     "metadata": {
      "slideshow": {
       "slide_type": "fragment"
      }
     },
     "outputs": [],
     "prompt_number": 181
    },
    {
     "cell_type": "code",
     "collapsed": false,
     "input": [
      "# Cool feature: Argument Unpacking\n",
      "mytuple = (1, 2, 'red')\n",
      "def somefunction(num1, num2, color):\n",
      "    # Do something\n",
      "    print('args unpacked:', num1, num2, color)\n",
      "    return\n",
      "\n",
      "# *mytuple unpacks the tuple and passes each element as an argument\n",
      "# somefunction(*mytuple) -> translate to: somefunction(1, 2, 'red')\n",
      "somefunction(*mytuple)"
     ],
     "language": "python",
     "metadata": {
      "slideshow": {
       "slide_type": "subslide"
      }
     },
     "outputs": [
      {
       "output_type": "stream",
       "stream": "stdout",
       "text": [
        "args unpacked: 1 2 red\n"
       ]
      }
     ],
     "prompt_number": 219
    },
    {
     "cell_type": "markdown",
     "metadata": {
      "slideshow": {
       "slide_type": "subslide"
      }
     },
     "source": [
      "# Lists\n",
      "* Lists are resizable (pop/remove, append/extend)\n",
      "* Typically homogeneous data"
     ]
    },
    {
     "cell_type": "code",
     "collapsed": false,
     "input": [
      "mylist = [10, 20, 30]\n",
      "print(mylist[1])\n",
      "\n",
      "# [-1] refers to last element, [-2] second to last, ...\n",
      "print(mylist[-1])"
     ],
     "language": "python",
     "metadata": {
      "slideshow": {
       "slide_type": "fragment"
      }
     },
     "outputs": [
      {
       "output_type": "stream",
       "stream": "stdout",
       "text": [
        "20\n",
        "30\n"
       ]
      }
     ],
     "prompt_number": 220
    },
    {
     "cell_type": "code",
     "collapsed": false,
     "input": [
      "# Adding elements to a list\n",
      "mylist = [10, 20, 30]\n",
      "\n",
      "# Append\n",
      "mylist.append(40) # append element to end of list\n",
      "print(mylist)\n",
      "\n",
      "# Concatenate\n",
      "print(mylist+[50])"
     ],
     "language": "python",
     "metadata": {
      "slideshow": {
       "slide_type": "subslide"
      }
     },
     "outputs": [
      {
       "output_type": "stream",
       "stream": "stdout",
       "text": [
        "[10, 20, 30, 40]\n",
        "[10, 20, 30, 40, 50]\n"
       ]
      }
     ],
     "prompt_number": 79
    },
    {
     "cell_type": "code",
     "collapsed": false,
     "input": [
      "# Removing elements to a list\n",
      "mylist = [10, 20, 30]\n",
      "\n",
      "# Pop\n",
      "popped = mylist.pop(2) # remove and return given element from list\n",
      "print(mylist)\n",
      "print('number popped:', popped)"
     ],
     "language": "python",
     "metadata": {
      "slideshow": {
       "slide_type": "fragment"
      }
     },
     "outputs": [
      {
       "output_type": "stream",
       "stream": "stdout",
       "text": [
        "[10, 20]\n",
        "number popped: 30\n"
       ]
      }
     ],
     "prompt_number": 80
    },
    {
     "cell_type": "code",
     "collapsed": false,
     "input": [
      "# Slicing with lists and tuples\n",
      "mylist = [0,1,2,3,4,5,6,7,8,9]\n",
      "print(mylist)\n",
      "\n",
      "# Slicing syntax: \n",
      "#    L[start : end : increment]\n",
      "#    start <= i < end; i += increment"
     ],
     "language": "python",
     "metadata": {
      "slideshow": {
       "slide_type": "subslide"
      }
     },
     "outputs": [
      {
       "output_type": "stream",
       "stream": "stdout",
       "text": [
        "[0, 1, 2, 3, 4, 5, 6, 7, 8, 9]\n"
       ]
      }
     ],
     "prompt_number": 72
    },
    {
     "cell_type": "code",
     "collapsed": false,
     "input": [
      "# Slice list from element 2 up until element 6 at increments of 1\n",
      "print(mylist[2:6:1])\n",
      "\n",
      "# Default increment is 1 (same as above)\n",
      "print(mylist[2:6])"
     ],
     "language": "python",
     "metadata": {
      "slideshow": {
       "slide_type": "fragment"
      }
     },
     "outputs": [
      {
       "output_type": "stream",
       "stream": "stdout",
       "text": [
        "[2, 3, 4, 5]\n",
        "[2, 3, 4, 5]\n"
       ]
      }
     ],
     "prompt_number": 70
    },
    {
     "cell_type": "code",
     "collapsed": false,
     "input": [
      "# Every other element\n",
      "print(mylist[::2])\n",
      "\n",
      "# Every other element starting at 2nd element\n",
      "print(mylist[1::2])"
     ],
     "language": "python",
     "metadata": {
      "slideshow": {
       "slide_type": "fragment"
      }
     },
     "outputs": [
      {
       "output_type": "stream",
       "stream": "stdout",
       "text": [
        "[0, 2, 4, 6, 8]\n",
        "[1, 3, 5, 7, 9]\n"
       ]
      }
     ],
     "prompt_number": 71
    },
    {
     "cell_type": "markdown",
     "metadata": {
      "slideshow": {
       "slide_type": "subslide"
      }
     },
     "source": [
      "### When to use tuples instead of lists?\n",
      "* When working with a well-defined structure\n",
      "* Usage of tuples is generally faster (compared to lists)\n",
      "* There is a strong culture to use tuples for heterogenous data (like a C struct)\n",
      "* Convenient way of passing multiple objects"
     ]
    },
    {
     "cell_type": "markdown",
     "metadata": {
      "slideshow": {
       "slide_type": "subslide"
      }
     },
     "source": [
      "# Dictionaries\n",
      "* Key-value pairs of any type\n"
     ]
    },
    {
     "cell_type": "code",
     "collapsed": false,
     "input": [
      "# Initializing a dictionary with 2 key-value pairs\n",
      "Protons = {'Oxygen': 8, 'Hydrogen': 1}\n",
      "\n",
      "# Adding a key-value pair\n",
      "Protons['Carbon'] = 6\n",
      "\n",
      "# Looking a value up by key:\n",
      "\n",
      "print(Protons['Hydrogen'])"
     ],
     "language": "python",
     "metadata": {
      "slideshow": {
       "slide_type": "fragment"
      }
     },
     "outputs": [
      {
       "output_type": "stream",
       "stream": "stdout",
       "text": [
        "1\n"
       ]
      }
     ],
     "prompt_number": 99
    },
    {
     "cell_type": "code",
     "collapsed": false,
     "input": [
      "# Alternate syntax:\n",
      "# Constructed from a list of tuples containing the key-value pairs\n",
      "Protons = dict([('Oxygen', 8), ('Hydrogen', 1)])\n",
      "print(Protons['Hydrogen'])"
     ],
     "language": "python",
     "metadata": {
      "slideshow": {
       "slide_type": "fragment"
      }
     },
     "outputs": [
      {
       "output_type": "stream",
       "stream": "stdout",
       "text": [
        "1\n"
       ]
      }
     ],
     "prompt_number": 103
    },
    {
     "cell_type": "markdown",
     "metadata": {
      "slideshow": {
       "slide_type": "slide"
      }
     },
     "source": [
      "# Structured Blocks\n",
      "\n",
      "* if/elif/else statements\n",
      "* while loops\n",
      "* for loops\n",
      "\n",
      "Like functions, structure blocks also require indentation"
     ]
    },
    {
     "cell_type": "markdown",
     "metadata": {
      "slideshow": {
       "slide_type": "fragment"
      }
     },
     "source": [
      "Comparators:\n",
      "\n",
      "* ==\n",
      "* !=\n",
      "* >\n",
      "* <\n",
      "* <=\n",
      "* \\>=\n",
      "\n",
      "Boolean Operations:\n",
      "\n",
      "* not\n",
      "* and\n",
      "* or"
     ]
    },
    {
     "cell_type": "code",
     "collapsed": false,
     "input": [
      "# if/elif/else statement\n",
      "a = 1\n",
      "b = 2\n",
      "\n",
      "if a < b:\n",
      "    print('a is smaller')\n",
      "elif a > b:\n",
      "    print('a is larger')\n",
      "else:\n",
      "    print('a must equal b')"
     ],
     "language": "python",
     "metadata": {
      "slideshow": {
       "slide_type": "subslide"
      }
     },
     "outputs": [
      {
       "output_type": "stream",
       "stream": "stdout",
       "text": [
        "a is smaller\n"
       ]
      }
     ],
     "prompt_number": 81
    },
    {
     "cell_type": "code",
     "collapsed": false,
     "input": [
      "# while loop\n",
      "c = 0\n",
      "\n",
      "while c < 5:\n",
      "    c = c + 1\n",
      "    print(c)\n",
      "    \n",
      "# break / continue work as well"
     ],
     "language": "python",
     "metadata": {
      "slideshow": {
       "slide_type": "subslide"
      }
     },
     "outputs": [
      {
       "output_type": "stream",
       "stream": "stdout",
       "text": [
        "1\n",
        "2\n",
        "3\n",
        "4\n",
        "5\n"
       ]
      }
     ],
     "prompt_number": 235
    },
    {
     "cell_type": "code",
     "collapsed": false,
     "input": [
      "# for loop\n",
      "for i in [0,1,2,3,4]:\n",
      "    print(i)\n",
      "\n",
      "# break / continue work as well"
     ],
     "language": "python",
     "metadata": {
      "slideshow": {
       "slide_type": "subslide"
      }
     },
     "outputs": [
      {
       "output_type": "stream",
       "stream": "stdout",
       "text": [
        "0\n",
        "1\n",
        "2\n",
        "3\n",
        "4\n"
       ]
      }
     ],
     "prompt_number": 234
    },
    {
     "cell_type": "code",
     "collapsed": false,
     "input": [
      "# range function:\n",
      "for i in range(5):\n",
      "    print(i)\n",
      "    \n",
      "# range syntax: range(start, end, increment)\n",
      "\n",
      "# Sum odd numbers between 1 and 10\n",
      "mysum = 0\n",
      "for i in range(1,10,2):\n",
      "    mysum += i\n",
      "print('mysum =', mysum)"
     ],
     "language": "python",
     "metadata": {
      "slideshow": {
       "slide_type": "subslide"
      }
     },
     "outputs": [
      {
       "output_type": "stream",
       "stream": "stdout",
       "text": [
        "0\n",
        "1\n",
        "2\n",
        "3\n",
        "4\n",
        "mysum = 25\n"
       ]
      }
     ],
     "prompt_number": 91
    },
    {
     "cell_type": "heading",
     "level": 1,
     "metadata": {
      "slideshow": {
       "slide_type": "slide"
      }
     },
     "source": [
      "Exercises Part 1"
     ]
    },
    {
     "cell_type": "markdown",
     "metadata": {
      "slideshow": {
       "slide_type": "slide"
      }
     },
     "source": [
      "## Function Arguments\n",
      "\n",
      "Two types of arguments:\n",
      "\n",
      "* positional arguments: ` *args `\n",
      "\n",
      "* keyword arguments: ` **kwargs `\n",
      "\n",
      "    * Optional arguments with default values\n",
      "\n",
      "    * Must always come after positional arguments"
     ]
    },
    {
     "cell_type": "code",
     "collapsed": false,
     "input": [
      "def somefunc(start, end, increment=1):\n",
      "    print(start, end, increment)\n",
      "    return\n",
      "\n",
      "somefunc(0, 5, increment=10)\n",
      "somefunc(0, 5)"
     ],
     "language": "python",
     "metadata": {
      "slideshow": {
       "slide_type": "fragment"
      }
     },
     "outputs": [
      {
       "output_type": "stream",
       "stream": "stdout",
       "text": [
        "0 5 10\n",
        "0 5 1\n"
       ]
      }
     ],
     "prompt_number": 227
    },
    {
     "cell_type": "code",
     "collapsed": false,
     "input": [
      "# When unsure of how many arguments will be passed to a function\n",
      "\n",
      "def toomanyargs(*args, **kwargs):\n",
      "    print('args is a list of positional arguments')\n",
      "    print(args, '\\n')\n",
      "    \n",
      "    print('kwargs is a dictionary of key word arguments')\n",
      "    print(kwargs)\n",
      "    return\n",
      "\n",
      "toomanyargs(5, 3, 1, color1='red', color2='green', color3='blue')"
     ],
     "language": "python",
     "metadata": {
      "slideshow": {
       "slide_type": "subslide"
      }
     },
     "outputs": [
      {
       "output_type": "stream",
       "stream": "stdout",
       "text": [
        "args is a list of positional arguments\n",
        "(5, 3, 1) \n",
        "\n",
        "kwargs is a dictionary of key word arguments\n",
        "{'color2': 'green', 'color3': 'blue', 'color1': 'red'}\n"
       ]
      }
     ],
     "prompt_number": 250
    },
    {
     "cell_type": "markdown",
     "metadata": {
      "slideshow": {
       "slide_type": "slide"
      }
     },
     "source": [
      "# Function Scope\n",
      "\n",
      "Python functions follow LEGB scope resolution rules:\n",
      "\n",
      "* L - Local\n",
      "* E - Enclosing function locals\n",
      "* G - Global\n",
      "* B - Built-in\n"
     ]
    },
    {
     "cell_type": "code",
     "collapsed": false,
     "input": [
      "y = 2\n",
      "\n",
      "# y is defined outside local function scope, but it is still accessed\n",
      "def add_y(x):\n",
      "    x += y\n",
      "    return x\n",
      "\n",
      "add_y(10)"
     ],
     "language": "python",
     "metadata": {
      "slideshow": {
       "slide_type": "fragment"
      }
     },
     "outputs": [
      {
       "metadata": {},
       "output_type": "pyout",
       "prompt_number": 249,
       "text": [
        "12"
       ]
      }
     ],
     "prompt_number": 249
    },
    {
     "cell_type": "code",
     "collapsed": false,
     "input": [
      "# Cannot modify unpassed variables outside scope unless using `global`\n",
      "\n",
      "y = 2\n",
      "def localfunc(x):\n",
      "    y = 10\n",
      "    x += y\n",
      "    return x\n",
      "\n",
      "# y is still 2\n",
      "print('localfunc(10) =', localfunc(10))\n",
      "print('y =', y)"
     ],
     "language": "python",
     "metadata": {
      "slideshow": {
       "slide_type": "subslide"
      }
     },
     "outputs": [
      {
       "output_type": "stream",
       "stream": "stdout",
       "text": [
        "localfunc(10) = 20\n",
        "y = 2\n"
       ]
      }
     ],
     "prompt_number": 246
    },
    {
     "cell_type": "code",
     "collapsed": false,
     "input": [
      "y = 2\n",
      "def globalfunc(x):\n",
      "    # Give globalfunc function access to variable y\n",
      "    global y\n",
      "    y = 10\n",
      "    x += y\n",
      "    return x\n",
      "\n",
      "# y is now modified, \n",
      "print('globalfunc(10) =', globalfunc(10))\n",
      "print('y =', y)"
     ],
     "language": "python",
     "metadata": {
      "slideshow": {
       "slide_type": "fragment"
      }
     },
     "outputs": [
      {
       "output_type": "stream",
       "stream": "stdout",
       "text": [
        "globalfunc(10) = 20\n",
        "y = 10\n"
       ]
      }
     ],
     "prompt_number": 248
    },
    {
     "cell_type": "markdown",
     "metadata": {
      "slideshow": {
       "slide_type": "slide"
      }
     },
     "source": [
      "# Mutability\n",
      " \n",
      "Immutable objects get created and destroyed upon assignment and collection\n",
      "* Strings\n",
      "* Numbers\n",
      "* Tuples\n",
      "\n",
      "Mutable objects create references to contained objects upon assignment\n",
      "* Lists\n",
      "* Dictionaries"
     ]
    },
    {
     "cell_type": "markdown",
     "metadata": {
      "slideshow": {
       "slide_type": "subslide"
      }
     },
     "source": [
      "### Implications of Mutability\n",
      "* Function arguments are \"passed-by-object-reference\"\n",
      "    * Variables do not have values, objects do"
     ]
    },
    {
     "cell_type": "code",
     "collapsed": false,
     "input": [
      "# lists are mutable\n",
      "\n",
      "# If passed to a function that modifies list, \n",
      "#     it will be modified outside of function\n",
      "\n",
      "def append(list):\n",
      "  mylist.append(1)\n",
      "\n",
      "mylist = [0]\n",
      "\n",
      "append(mylist)\n",
      "print('After append:', mylist)"
     ],
     "language": "python",
     "metadata": {
      "slideshow": {
       "slide_type": "fragment"
      }
     },
     "outputs": [
      {
       "output_type": "stream",
       "stream": "stdout",
       "text": [
        "After append: [0, 1]\n"
       ]
      }
     ],
     "prompt_number": 237
    },
    {
     "cell_type": "code",
     "collapsed": false,
     "input": [
      "# If passed to a function that reassigns list, \n",
      "#    it will not be modified outside of function\n",
      "\n",
      "def reassign(mylist):\n",
      "  mylist = [0, 1]\n",
      "\n",
      "mylist = [0]\n",
      "reassign(mylist)\n",
      "print('After reassignment:', mylist)"
     ],
     "language": "python",
     "metadata": {
      "slideshow": {
       "slide_type": "fragment"
      }
     },
     "outputs": [
      {
       "output_type": "stream",
       "stream": "stdout",
       "text": [
        "After reassignment: [0]\n"
       ]
      }
     ],
     "prompt_number": 238
    },
    {
     "cell_type": "markdown",
     "metadata": {
      "slideshow": {
       "slide_type": "slide"
      }
     },
     "source": [
      "# Object Oriented Programming in Python\n",
      "\n",
      "* Focus on data, not the procedure\n",
      "* Encapsulate procedures with data\n",
      "* Create modular and maintainable code that can be reused\n",
      "\n"
     ]
    },
    {
     "cell_type": "markdown",
     "metadata": {
      "slideshow": {
       "slide_type": "fragment"
      }
     },
     "source": [
      "* __Class__\n",
      "    * Description of a *type* of object\n",
      "* __Object__\n",
      "    * The realization of the description\n",
      "    * An *instance* of a class\n",
      "\n",
      "In Python a class can contain attributes (variables) and methods (functions)."
     ]
    },
    {
     "cell_type": "markdown",
     "metadata": {
      "slideshow": {
       "slide_type": "subslide"
      }
     },
     "source": [
      "* __Classes__ define\n",
      "    * Attributes\n",
      "    * Methods\n",
      "* __Instances__ have\n",
      "    * Data stored in attributes\n",
      "    * Methods to operate on the data\n",
      "* Objects can interact with each other by passing attributes to methods"
     ]
    },
    {
     "cell_type": "code",
     "collapsed": true,
     "input": [
      "class Point(object):\n",
      "    \"\"\"\n",
      "    Simple class for representing a point in a Cartesian coordinate system.\n",
      "    \"\"\"\n",
      "    \n",
      "    def __init__(self, x, y):\n",
      "        \"\"\"\n",
      "        Create a new Point at x, y.\n",
      "        \"\"\"\n",
      "        self.x = x\n",
      "        self.y = y\n",
      "        \n",
      "    def translate(self, dx, dy):\n",
      "        \"\"\"\n",
      "        Translate the point by dx and dy in the x and y direction.\n",
      "        \"\"\"\n",
      "        self.x += dx\n",
      "        self.y += dy\n",
      "        \n",
      "    def __str__(self):\n",
      "        return(\"Point at [%f, %f]\" % (self.x, self.y))"
     ],
     "language": "python",
     "metadata": {
      "slideshow": {
       "slide_type": "subslide"
      }
     },
     "outputs": [],
     "prompt_number": 206
    },
    {
     "cell_type": "code",
     "collapsed": false,
     "input": [
      "# Creating an instance of the class (instantiating)\n",
      "p1 = Point(0, 0)\n",
      "print(p1)\n",
      "p1.translate(1, 1.5)\n",
      "print(p1)"
     ],
     "language": "python",
     "metadata": {
      "slideshow": {
       "slide_type": "fragment"
      }
     },
     "outputs": [
      {
       "output_type": "stream",
       "stream": "stdout",
       "text": [
        "Point at [0.000000, 0.000000]\n",
        "Point at [1.000000, 1.500000]\n"
       ]
      }
     ],
     "prompt_number": 116
    },
    {
     "cell_type": "markdown",
     "metadata": {
      "slideshow": {
       "slide_type": "slide"
      }
     },
     "source": [
      "# Modules and Packages\n",
      "Any Python file that you can import is called a Python module\n",
      "\n",
      "A collection of python modules under the same namespace is known as a package"
     ]
    },
    {
     "cell_type": "code",
     "collapsed": false,
     "input": [
      "# sys a built-in module\n",
      "import sys\n",
      "sys.version"
     ],
     "language": "python",
     "metadata": {
      "slideshow": {
       "slide_type": "subslide"
      }
     },
     "outputs": [
      {
       "metadata": {},
       "output_type": "pyout",
       "prompt_number": 142,
       "text": [
        "'3.5.0a3 (v3.5.0a3:82656e28b5e5, Mar 29 2015, 15:59:31) \\n[GCC 4.2.1 (Apple Inc. build 5666) (dot 3)]'"
       ]
      }
     ],
     "prompt_number": 142
    },
    {
     "cell_type": "code",
     "collapsed": false,
     "input": [
      "%%file mymodule.py\n",
      "#!/usr/bin/env python\n",
      "\"\"\"\n",
      "Example of a python module that can be executed from commandline or imported by another python module.\n",
      "\"\"\"\n",
      "\n",
      "def main():\n",
      "    # Do something important\n",
      "    print(\"Important thing done\")\n",
      "\n",
      "\n",
      "def somefunction():\n",
      "    # Do something else important\n",
      "    print(\"somefunction is completed\")\n",
      "    \n",
      "        \n",
      "if __name__ == '__main__':\n",
      "    main()"
     ],
     "language": "python",
     "metadata": {
      "slideshow": {
       "slide_type": "subslide"
      }
     },
     "outputs": [
      {
       "output_type": "stream",
       "stream": "stdout",
       "text": [
        "Overwriting mymodule.py\n"
       ]
      }
     ],
     "prompt_number": 221
    },
    {
     "cell_type": "code",
     "collapsed": false,
     "input": [
      "# Standard importing of module\n",
      "import mymodule\n",
      "mymodule.main()"
     ],
     "language": "python",
     "metadata": {
      "slideshow": {
       "slide_type": "subslide"
      }
     },
     "outputs": [
      {
       "output_type": "stream",
       "stream": "stdout",
       "text": [
        "Important thing done\n"
       ]
      }
     ],
     "prompt_number": 147
    },
    {
     "cell_type": "code",
     "collapsed": false,
     "input": [
      "# Directly import module's symbol table\n",
      "from mymodule import somefunction\n",
      "somefunction()"
     ],
     "language": "python",
     "metadata": {
      "slideshow": {
       "slide_type": "fragment"
      }
     },
     "outputs": [
      {
       "output_type": "stream",
       "stream": "stdout",
       "text": [
        "Other important thing done\n"
       ]
      }
     ],
     "prompt_number": 149
    },
    {
     "cell_type": "code",
     "collapsed": true,
     "input": [
      "# Imports all names except those beginning in underscore (_)\n",
      "# Generally considered bad practice\n",
      "from mymodule import *"
     ],
     "language": "python",
     "metadata": {
      "slideshow": {
       "slide_type": "fragment"
      }
     },
     "outputs": [],
     "prompt_number": 151
    },
    {
     "cell_type": "markdown",
     "metadata": {
      "slideshow": {
       "slide_type": "subslide"
      }
     },
     "source": [
      "The module search path:\n",
      "\n",
      "1. Current directory\n",
      "*  \\$PYTHONPATH\n",
      "*  installation-dependent default"
     ]
    },
    {
     "cell_type": "heading",
     "level": 1,
     "metadata": {
      "slideshow": {
       "slide_type": "slide"
      }
     },
     "source": [
      "Exercises Part 2 / Lunch"
     ]
    },
    {
     "cell_type": "markdown",
     "metadata": {
      "slideshow": {
       "slide_type": "slide"
      }
     },
     "source": [
      "# Resources\n",
      "* Python Docs Introduction\n",
      "    * https://docs.python.org/2/tutorial/introduction.html\n",
      "* Google Python Introduction\n",
      "    * https://developers.google.com/edu/python/introduction\n",
      "* Robert Johhansson's Scientific Python Lectures\n",
      "    * http://nbviewer.ipython.org/github/jrjohansson/scientific-python-lectures/blob/master/Lecture-1-Introduction-to-Python-Programming.ipynb\n",
      "* SaM Python Workshop 2014 Slides:\n",
      "    * https://github.com/AlbertDeFusco/python\n",
      "* Python Exercises\n",
      "    * http://www.ling.gu.se/~lager/python_exercises.html"
     ]
    }
   ],
   "metadata": {}
  }
 ]
}