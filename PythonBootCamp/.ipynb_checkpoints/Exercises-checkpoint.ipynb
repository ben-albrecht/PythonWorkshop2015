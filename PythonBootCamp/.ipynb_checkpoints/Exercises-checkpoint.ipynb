{
 "cells": [
  {
   "cell_type": "markdown",
   "metadata": {},
   "source": [
    "# Exercises Part 1"
   ]
  },
  {
   "cell_type": "markdown",
   "metadata": {},
   "source": [
    "## Exercise 1-1\n",
    "\n",
    "Finish the function below that converts Fahrenheit to Celsius\n",
    "\n",
    "$C = \\frac{5}{9}(F - 32)$\n",
    "\n"
   ]
  },
  {
   "cell_type": "code",
   "execution_count": 47,
   "metadata": {
    "collapsed": true
   },
   "outputs": [],
   "source": [
    "def celsius(fahrenheit):\n",
    "    \"\"\"Converts fahrenheit to celsius\"\"\""
   ]
  },
  {
   "cell_type": "markdown",
   "metadata": {},
   "source": [
    "## Exercise 1-2\n",
    "\n",
    "Finish the function below to estimate the value of pi using the Wallis formula\n",
    "\n",
    "$\\pi = 2 \\prod\\limits_{i=1}^{\\infty} \\frac{4 i^2}{4 i^2 - 1}$"
   ]
  },
  {
   "cell_type": "code",
   "execution_count": 56,
   "metadata": {
    "collapsed": false
   },
   "outputs": [],
   "source": [
    "def wallis(n):\n",
    "    \"\"\"Estimate value of pi to n iterations\"\"\""
   ]
  },
  {
   "cell_type": "markdown",
   "metadata": {},
   "source": [
    "## Exercise 1-3\n",
    "\n",
    "Write a function called `factorial(n)` to evaluate a factorial, given n:\n",
    "\n",
    "$n! = \\prod\\limits_{k=1}^{n} k$"
   ]
  },
  {
   "cell_type": "code",
   "execution_count": null,
   "metadata": {
    "collapsed": false
   },
   "outputs": [],
   "source": [
    "# Write function here"
   ]
  },
  {
   "cell_type": "markdown",
   "metadata": {},
   "source": [
    "## Exercise 1-4\n",
    "Write a function called `reverse(string)` that returns a string reversed\n"
   ]
  },
  {
   "cell_type": "markdown",
   "metadata": {},
   "source": [
    "## Exercise 1-5\n",
    "Write a function called `is_palindrome(string)` to check if a string is a palindrome"
   ]
  },
  {
   "cell_type": "code",
   "execution_count": null,
   "metadata": {
    "collapsed": true
   },
   "outputs": [],
   "source": [
    "# Write function here"
   ]
  },
  {
   "cell_type": "markdown",
   "metadata": {},
   "source": [
    "# Exercises Part 2"
   ]
  },
  {
   "cell_type": "markdown",
   "metadata": {},
   "source": [
    "## Exercise 2-1\n",
    "\n",
    "Create a class called `Vector` that is initialized by 3 coordinates: x, y, z\n",
    "\n",
    "Create a class method called `norm` that will compute and return the norm of the vector\n",
    "\n",
    "$ |v| = \\sqrt{x^2 + y^2 + z^2} $\n",
    "\n",
    "Create a class method called `normalize` that will normalize the vector by modifying x, y, z\n",
    "\n",
    "$ x = \\frac{x}{|v|} $ \n",
    "\n",
    "$ y = \\frac{y}{|v|} $ \n",
    "\n",
    "$ z = \\frac{z}{|v|} $ \n",
    "\n",
    "\n",
    "Overwrite the default `__str__` attribute of the class so that printing a vector object will print the x,y,z coordinates\n",
    "\n",
    "Create this in a file called `vector.py`"
   ]
  },
  {
   "cell_type": "code",
   "execution_count": 46,
   "metadata": {
    "collapsed": false
   },
   "outputs": [
    {
     "name": "stdout",
     "output_type": "stream",
     "text": [
      "Overwriting vector.py\n"
     ]
    }
   ],
   "source": [
    "%%file vector.py\n",
    "\"\"\"Vector module\"\"\"\n",
    "\n"
   ]
  },
  {
   "cell_type": "markdown",
   "metadata": {},
   "source": [
    "## Exercise 2-2\n",
    "\n",
    "Import the vector module from the previous exercise and create a vector with some values for x, y, z\n",
    "\n",
    "Call the class methods to compute the norm of vector and normalize the vector. Print the vector and see the result."
   ]
  },
  {
   "cell_type": "code",
   "execution_count": null,
   "metadata": {
    "collapsed": true
   },
   "outputs": [],
   "source": []
  }
 ],
 "metadata": {
  "kernelspec": {
   "display_name": "Python 3",
   "language": "python",
   "name": "python3"
  },
  "language_info": {
   "codemirror_mode": {
    "name": "ipython",
    "version": 3
   },
   "file_extension": ".py",
   "mimetype": "text/x-python",
   "name": "python",
   "nbconvert_exporter": "python",
   "pygments_lexer": "ipython3",
   "version": "3.5.0a3"
  }
 },
 "nbformat": 4,
 "nbformat_minor": 0
}
