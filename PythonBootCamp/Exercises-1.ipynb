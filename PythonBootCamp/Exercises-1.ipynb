{
 "cells": [
  {
   "cell_type": "markdown",
   "metadata": {},
   "source": [
    "# Exercises Part 1"
   ]
  },
  {
   "cell_type": "markdown",
   "metadata": {},
   "source": [
    "## Exercise 1-1\n",
    "\n",
    "Finish the function below that converts Fahrenheit to Celsius\n",
    "\n",
    "$C = \\frac{5}{9}(F - 32)$\n",
    "\n"
   ]
  },
  {
   "cell_type": "code",
   "execution_count": 40,
   "metadata": {
    "collapsed": true
   },
   "outputs": [],
   "source": [
    "def celsius(fahrenheit):\n",
    "    \"\"\"Converts fahrenheit to celsius\"\"\"\n",
    "    # Do stuff here and return something\n",
    "    "
   ]
  },
  {
   "cell_type": "markdown",
   "metadata": {},
   "source": [
    "## Exercise 1-2\n",
    "\n",
    "Create a function to estimate the value of pi using the Wallis formula\n",
    "\n",
    "$\\pi = 2 \\prod\\limits_{i=1}^{\\infty} \\frac{4 i^2}{4 i^2 - 1}$"
   ]
  },
  {
   "cell_type": "code",
   "execution_count": 43,
   "metadata": {
    "collapsed": false
   },
   "outputs": [],
   "source": [
    "def wallis(n):\n",
    "    \"\"\"Estimate value of pi to n iterations\"\"\"\n",
    "    # Do stuff here and return something"
   ]
  },
  {
   "cell_type": "code",
   "execution_count": null,
   "metadata": {
    "collapsed": true
   },
   "outputs": [],
   "source": []
  }
 ],
 "metadata": {
  "kernelspec": {
   "display_name": "Python 3",
   "language": "python",
   "name": "python3"
  },
  "language_info": {
   "codemirror_mode": {
    "name": "ipython",
    "version": 3
   },
   "file_extension": ".py",
   "mimetype": "text/x-python",
   "name": "python",
   "nbconvert_exporter": "python",
   "pygments_lexer": "ipython3",
   "version": "3.5.0a3"
  }
 },
 "nbformat": 4,
 "nbformat_minor": 0
}
