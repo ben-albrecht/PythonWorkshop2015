{
 "cells": [
  {
   "cell_type": "markdown",
   "metadata": {},
   "source": [
    "# Exercises Part 1"
   ]
  },
  {
   "cell_type": "markdown",
   "metadata": {},
   "source": [
    "## Exercise 1-1\n",
    "\n",
    "Finish the function below that converts Fahrenheit to Celsius\n",
    "\n",
    "$C = \\frac{5}{9}(F - 32)$\n",
    "\n"
   ]
  },
  {
   "cell_type": "code",
   "execution_count": 40,
   "metadata": {
    "collapsed": true
   },
   "outputs": [],
   "source": [
    "def celsius(fahrenheit):\n",
    "    \"\"\"Converts fahrenheit to celsius\"\"\"\n",
    "    # Do stuff here and return something\n",
    "    "
   ]
  },
  {
   "cell_type": "markdown",
   "metadata": {},
   "source": [
    "## Exercise 1-2\n",
    "\n",
    "Finish the function below to estimate the value of pi using the Wallis formula\n",
    "\n",
    "$\\pi = 2 \\prod\\limits_{i=1}^{\\infty} \\frac{4 i^2}{4 i^2 - 1}$"
   ]
  },
  {
   "cell_type": "code",
   "execution_count": 43,
   "metadata": {
    "collapsed": false
   },
   "outputs": [],
   "source": [
    "def wallis(n):\n",
    "    \"\"\"Estimate value of pi to n iterations\"\"\"\n",
    "    # Do stuff here and return something"
   ]
  },
  {
   "cell_type": "markdown",
   "metadata": {},
   "source": [
    "## Exercise 1-3\n",
    "\n",
    "Write a function called `factorial(n)` to evaluate a factorial, given n:\n",
    "\n",
    "$n! = \\prod\\limits_{k=1}^{n} k$"
   ]
  },
  {
   "cell_type": "code",
   "execution_count": null,
   "metadata": {
    "collapsed": true
   },
   "outputs": [],
   "source": [
    "# Write function here"
   ]
  },
  {
   "cell_type": "markdown",
   "metadata": {},
   "source": [
    "## Exercise 1-4\n",
    "Write a function called `reverse(string)` that returns a string reversed\n"
   ]
  },
  {
   "cell_type": "code",
   "execution_count": null,
   "metadata": {
    "collapsed": true
   },
   "outputs": [],
   "source": [
    "# Write function here"
   ]
  },
  {
   "cell_type": "markdown",
   "metadata": {},
   "source": [
    "## Exercise 1-5\n",
    "Write a function called `is_palindrome(string)` to check if a string is a palindrome"
   ]
  },
  {
   "cell_type": "code",
   "execution_count": null,
   "metadata": {
    "collapsed": true
   },
   "outputs": [],
   "source": [
    "# Write function here"
   ]
  }
 ],
 "metadata": {
  "kernelspec": {
   "display_name": "Python 3",
   "language": "python",
   "name": "python3"
  },
  "language_info": {
   "codemirror_mode": {
    "name": "ipython",
    "version": 3
   },
   "file_extension": ".py",
   "mimetype": "text/x-python",
   "name": "python",
   "nbconvert_exporter": "python",
   "pygments_lexer": "ipython3",
   "version": "3.5.0a3"
  }
 },
 "nbformat": 4,
 "nbformat_minor": 0
}
