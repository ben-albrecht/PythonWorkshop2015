{
 "cells": [
  {
   "cell_type": "markdown",
   "metadata": {},
   "source": [
    "# Solutions to Exercises Part 1"
   ]
  },
  {
   "cell_type": "markdown",
   "metadata": {},
   "source": [
    "## Exercise 1-1\n",
    "\n",
    "Finish the function below that converts Fahrenheit to Celsius\n",
    "\n",
    "$C = \\frac{5}{9}(F - 32)$\n",
    "\n"
   ]
  },
  {
   "cell_type": "code",
   "execution_count": 47,
   "metadata": {
    "collapsed": true
   },
   "outputs": [],
   "source": [
    "def celsius(fahrenheit):\n",
    "    \"\"\"Converts fahrenheit to celsius\"\"\"\n",
    "    return (5.0/9)*(fahrenheit - 32)"
   ]
  },
  {
   "cell_type": "code",
   "execution_count": 48,
   "metadata": {
    "collapsed": false
   },
   "outputs": [
    {
     "data": {
      "text/plain": [
       "0.0"
      ]
     },
     "execution_count": 48,
     "metadata": {},
     "output_type": "execute_result"
    }
   ],
   "source": [
    "celsius(32)"
   ]
  },
  {
   "cell_type": "markdown",
   "metadata": {},
   "source": [
    "## Exercise 1-2\n",
    "\n",
    "Finish the function below to estimate the value of pi using the Wallis formula\n",
    "\n",
    "$\\pi = 2 \\prod\\limits_{i=1}^{\\infty} \\frac{4 i^2}{4 i^2 - 1}$"
   ]
  },
  {
   "cell_type": "code",
   "execution_count": 56,
   "metadata": {
    "collapsed": false
   },
   "outputs": [],
   "source": [
    "def wallis(n):\n",
    "    \"\"\"Estimate value of pi to n iterations\"\"\"\n",
    "    pi = 1\n",
    "    for i in range(1, n+1):\n",
    "        i2 = i**2\n",
    "        pi *= (4 * i2 / (4 * i2 - 1))\n",
    "    return 2*pi"
   ]
  },
  {
   "cell_type": "code",
   "execution_count": 57,
   "metadata": {
    "collapsed": false
   },
   "outputs": [
    {
     "data": {
      "text/plain": [
       "3.140807746030402"
      ]
     },
     "execution_count": 57,
     "metadata": {},
     "output_type": "execute_result"
    }
   ],
   "source": [
    "wallis(1000)"
   ]
  },
  {
   "cell_type": "markdown",
   "metadata": {},
   "source": [
    "## Exercise 1-3\n",
    "\n",
    "Write a function called `factorial(n)` to evaluate a factorial, given n:\n",
    "\n",
    "$n! = \\prod\\limits_{k=1}^{n} k$"
   ]
  },
  {
   "cell_type": "code",
   "execution_count": null,
   "metadata": {
    "collapsed": false
   },
   "outputs": [],
   "source": [
    "# Write function here\n",
    "\n",
    "def factorial(n):\n",
    "    \"\"\"Compute Factorial recursively\"\"\"\n",
    "    if n == 1:\n",
    "        return 1\n",
    "    return n*factorial(n-1)"
   ]
  },
  {
   "cell_type": "code",
   "execution_count": 63,
   "metadata": {
    "collapsed": false
   },
   "outputs": [
    {
     "data": {
      "text/plain": [
       "24"
      ]
     },
     "execution_count": 63,
     "metadata": {},
     "output_type": "execute_result"
    }
   ],
   "source": [
    "factorial(4)"
   ]
  },
  {
   "cell_type": "markdown",
   "metadata": {},
   "source": [
    "## Exercise 1-4\n",
    "Write a function called `reverse(string)` that returns a string reversed\n"
   ]
  },
  {
   "cell_type": "code",
   "execution_count": 58,
   "metadata": {
    "collapsed": true
   },
   "outputs": [],
   "source": [
    "# Write function here\n",
    "def reverse(string):\n",
    "    \"\"\"Reverse string and return it\"\"\"\n",
    "    reversedstring = ''\n",
    "    for char in string[::-1]:\n",
    "        reversedstring += char\n",
    "    return reversedstring"
   ]
  },
  {
   "cell_type": "code",
   "execution_count": 64,
   "metadata": {
    "collapsed": false
   },
   "outputs": [
    {
     "data": {
      "text/plain": [
       "'ytrewq'"
      ]
     },
     "execution_count": 64,
     "metadata": {},
     "output_type": "execute_result"
    }
   ],
   "source": [
    "reverse('qwerty')"
   ]
  },
  {
   "cell_type": "markdown",
   "metadata": {},
   "source": [
    "## Exercise 1-5\n",
    "Write a function called `is_palindrome(string)` to check if a string is a palindrome"
   ]
  },
  {
   "cell_type": "code",
   "execution_count": 7,
   "metadata": {
    "collapsed": true
   },
   "outputs": [],
   "source": [
    "# Write function here\n",
    "def is_palindrome(string):\n",
    "    \"\"\"Check if string is a palindrome\"\"\"\n",
    "    return string == string[::-1]"
   ]
  },
  {
   "cell_type": "code",
   "execution_count": 8,
   "metadata": {
    "collapsed": false
   },
   "outputs": [
    {
     "data": {
      "text/plain": [
       "False"
      ]
     },
     "execution_count": 8,
     "metadata": {},
     "output_type": "execute_result"
    }
   ],
   "source": [
    "is_palindrome('test')"
   ]
  },
  {
   "cell_type": "code",
   "execution_count": 9,
   "metadata": {
    "collapsed": false
   },
   "outputs": [
    {
     "data": {
      "text/plain": [
       "True"
      ]
     },
     "execution_count": 9,
     "metadata": {},
     "output_type": "execute_result"
    }
   ],
   "source": [
    "is_palindrome('racecar')"
   ]
  },
  {
   "cell_type": "markdown",
   "metadata": {},
   "source": [
    "# Solutions to Exercises Part 2"
   ]
  },
  {
   "cell_type": "markdown",
   "metadata": {},
   "source": [
    "## Exercise 2-1\n",
    "\n",
    "Create a class called `Vector` that is initialized by 3 coordinates: x, y, z\n",
    "\n",
    "Create a class method called `norm` that will compute and return the norm of the vector\n",
    "\n",
    "$ |v| = \\sqrt{x^2 + y^2 + z^2} $\n",
    "\n",
    "Create a class method called `normalize` that will normalize the vector by modifying x, y, z\n",
    "\n",
    "$ x = \\frac{x}{|v|} $ \n",
    "\n",
    "$ y = \\frac{y}{|v|} $ \n",
    "\n",
    "$ z = \\frac{z}{|v|} $ \n",
    "\n",
    "\n",
    "Overwrite the default `__str__` attribute of the class so that printing a vector object will print the x,y,z coordinates\n",
    "\n",
    "Create this in a file called `vector.py`"
   ]
  },
  {
   "cell_type": "code",
   "execution_count": 2,
   "metadata": {
    "collapsed": false
   },
   "outputs": [
    {
     "name": "stdout",
     "output_type": "stream",
     "text": [
      "Overwriting vector.py\n"
     ]
    }
   ],
   "source": [
    "%%file vector.py\n",
    "\"\"\"Vector module\"\"\"\n",
    "\n",
    "class Vector(object):\n",
    "    \n",
    "    def __init__(self, x, y, z):\n",
    "        \"\"\"Contructor for vector, takes 3 cartesian coordinates\"\"\"\n",
    "        self.x = x\n",
    "        self.y = y\n",
    "        self.z = z\n",
    "        \n",
    "    def norm(self):\n",
    "        \"\"\"Return the norm of the vector (magnitude)\"\"\"\n",
    "        return (self.x**2 + self.y**2 + self.z**2)**0.5\n",
    "    \n",
    "    def normalize(self):\n",
    "        \"\"\"Normalize vector (norm = 1)\"\"\"\n",
    "        norm = self.norm()\n",
    "        self.x /= norm\n",
    "        self.y /= norm\n",
    "        self.z /= norm\n",
    "        \n",
    "    def __str__(self):\n",
    "        \"\"\"Overload string attribute for printing Vector instance\"\"\"\n",
    "        printout = ', '.join([str(self.x), str(self.y), str(self.z)])\n",
    "        return(printout)"
   ]
  },
  {
   "cell_type": "markdown",
   "metadata": {},
   "source": [
    "## Exercise 2-2\n",
    "\n",
    "Import the vector module from the previous exercise and create a vector with some values for x, y, z\n",
    "\n",
    "Call the class methods to compute the norm of vector and normalize the vector. Print the vector and see the result."
   ]
  },
  {
   "cell_type": "code",
   "execution_count": 2,
   "metadata": {
    "collapsed": false
   },
   "outputs": [
    {
     "name": "stdout",
     "output_type": "stream",
     "text": [
      "1, 3, 5\n",
      "0.1690308509457033, 0.50709255283711, 0.8451542547285166\n"
     ]
    }
   ],
   "source": [
    "from vector import Vector\n",
    "myvector = Vector(1,3,5)\n",
    "print(myvector)\n",
    "myvector.normalize()\n",
    "print(myvector)"
   ]
  }
 ],
 "metadata": {
  "kernelspec": {
   "display_name": "Python 3",
   "language": "python",
   "name": "python3"
  },
  "language_info": {
   "codemirror_mode": {
    "name": "ipython",
    "version": 3
   },
   "file_extension": ".py",
   "mimetype": "text/x-python",
   "name": "python",
   "nbconvert_exporter": "python",
   "pygments_lexer": "ipython3",
   "version": "3.5.0a3"
  }
 },
 "nbformat": 4,
 "nbformat_minor": 0
}
