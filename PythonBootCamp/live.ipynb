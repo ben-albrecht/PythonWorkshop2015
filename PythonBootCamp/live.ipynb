{
 "cells": [
  {
   "cell_type": "markdown",
   "metadata": {},
   "source": [
    "#  NumPy Arrays"
   ]
  },
  {
   "cell_type": "code",
   "execution_count": 7,
   "metadata": {
    "collapsed": true
   },
   "outputs": [],
   "source": [
    "import numpy as np"
   ]
  },
  {
   "cell_type": "code",
   "execution_count": 8,
   "metadata": {
    "collapsed": true
   },
   "outputs": [],
   "source": [
    "x = np.arange(10)"
   ]
  },
  {
   "cell_type": "code",
   "execution_count": 12,
   "metadata": {
    "collapsed": false
   },
   "outputs": [
    {
     "data": {
      "text/plain": [
       "array([ 0,  1,  4,  9, 16, 25, 36, 49, 64, 81])"
      ]
     },
     "execution_count": 12,
     "metadata": {},
     "output_type": "execute_result"
    }
   ],
   "source": [
    "x**2"
   ]
  },
  {
   "cell_type": "code",
   "execution_count": 14,
   "metadata": {
    "collapsed": false
   },
   "outputs": [
    {
     "data": {
      "text/plain": [
       "array([ 0,  1,  3,  6, 10, 15, 21, 28, 36, 45])"
      ]
     },
     "execution_count": 14,
     "metadata": {},
     "output_type": "execute_result"
    }
   ],
   "source": [
    "x.cumsum()"
   ]
  },
  {
   "cell_type": "code",
   "execution_count": 32,
   "metadata": {
    "collapsed": false
   },
   "outputs": [],
   "source": [
    "sqrd = np.vectorize(lambda x: x**2)"
   ]
  },
  {
   "cell_type": "code",
   "execution_count": 33,
   "metadata": {
    "collapsed": false
   },
   "outputs": [
    {
     "data": {
      "text/plain": [
       "array([ 0,  1,  4,  9, 16, 25, 36, 49, 64, 81])"
      ]
     },
     "execution_count": 33,
     "metadata": {},
     "output_type": "execute_result"
    }
   ],
   "source": [
    "sqrd(x)"
   ]
  },
  {
   "cell_type": "code",
   "execution_count": 26,
   "metadata": {
    "collapsed": true
   },
   "outputs": [],
   "source": [
    "def piArray(n):\n",
    "    series = 4.*np.arange(1,n+1)**2\n",
    "    series /= (series-1)\n",
    "    print(series.prod()*2)"
   ]
  },
  {
   "cell_type": "code",
   "execution_count": 29,
   "metadata": {
    "collapsed": true
   },
   "outputs": [
    {
     "name": "stdout",
     "output_type": "stream",
     "text": [
      "3.14159186819\n",
      "3.14159186819\n",
      "3.14159186819\n",
      "3.14159186819\n",
      "3.14159186819\n",
      "3.14159186819\n",
      "3.14159186819\n",
      "3.14159186819\n",
      "3.14159186819\n",
      "3.14159186819\n",
      "3.14159186819\n",
      "3.14159186819\n",
      "3.14159186819\n",
      "3.14159186819\n",
      "3.14159186819\n",
      "3.14159186819\n",
      "3.14159186819\n",
      "3.14159186819\n",
      "3.14159186819\n",
      "3.14159186819\n",
      "3.14159186819\n",
      "3.14159186819\n",
      "3.14159186819\n",
      "3.14159186819\n",
      "3.14159186819\n",
      "3.14159186819\n",
      "3.14159186819\n",
      "3.14159186819\n",
      "3.14159186819\n",
      "3.14159186819\n",
      "3.14159186819\n",
      "3.14159186819\n",
      "3.14159186819\n",
      "3.14159186819\n",
      "3.14159186819\n",
      "3.14159186819\n",
      "3.14159186819\n",
      "3.14159186819\n",
      "3.14159186819\n",
      "3.14159186819\n",
      "3.14159186819\n",
      "3.14159186819\n",
      "3.14159186819\n",
      "3.14159186819\n",
      "3.14159186819\n",
      "3.14159186819\n",
      "3.14159186819\n",
      "3.14159186819\n",
      "3.14159186819\n",
      "3.14159186819\n",
      "3.14159186819\n",
      "3.14159186819\n",
      "3.14159186819\n",
      "3.14159186819\n",
      "3.14159186819\n",
      "3.14159186819\n",
      "3.14159186819\n",
      "3.14159186819\n",
      "3.14159186819\n",
      "3.14159186819\n",
      "3.14159186819\n",
      "3.14159186819\n",
      "3.14159186819\n",
      "3.14159186819\n",
      "3.14159186819\n",
      "3.14159186819\n",
      "3.14159186819\n",
      "3.14159186819\n",
      "3.14159186819\n",
      "3.14159186819\n",
      "3.14159186819\n",
      "3.14159186819\n",
      "3.14159186819\n",
      "3.14159186819\n",
      "3.14159186819\n",
      "3.14159186819\n",
      "3.14159186819\n",
      "3.14159186819\n",
      "3.14159186819\n",
      "3.14159186819\n",
      "3.14159186819\n",
      "3.14159186819\n",
      "3.14159186819\n",
      "3.14159186819\n",
      "3.14159186819\n",
      "3.14159186819\n",
      "3.14159186819\n",
      "3.14159186819\n",
      "3.14159186819\n",
      "3.14159186819\n",
      "3.14159186819\n",
      "3.14159186819\n",
      "3.14159186819\n",
      "3.14159186819\n",
      "3.14159186819\n",
      "3.14159186819\n",
      "3.14159186819\n",
      "3.14159186819\n",
      "3.14159186819\n",
      "3.14159186819\n",
      "3.14159186819\n",
      "3.14159186819\n",
      "3.14159186819\n",
      "3.14159186819\n",
      "3.14159186819\n",
      "3.14159186819\n",
      "3.14159186819\n",
      "3.14159186819\n",
      "3.14159186819\n",
      "3.14159186819\n",
      "3.14159186819\n",
      "3.14159186819\n",
      "3.14159186819\n",
      "3.14159186819\n",
      "3.14159186819\n",
      "3.14159186819\n",
      "3.14159186819\n",
      "3.14159186819\n",
      "3.14159186819\n",
      "3.14159186819\n",
      "3.14159186819\n",
      "3.14159186819\n",
      "3.14159186819\n",
      "3.14159186819\n",
      "3.14159186819\n",
      "3.14159186819\n",
      "3.14159186819\n",
      "3.14159186819\n",
      "3.14159186819\n",
      "3.14159186819\n",
      "3.14159186819\n",
      "3.14159186819\n",
      "3.14159186819\n",
      "3.14159186819\n",
      "3.14159186819\n",
      "3.14159186819\n",
      "3.14159186819\n",
      "3.14159186819\n",
      "3.14159186819\n",
      "3.14159186819\n",
      "3.14159186819\n",
      "3.14159186819\n",
      "3.14159186819\n",
      "3.14159186819\n",
      "3.14159186819\n",
      "3.14159186819\n",
      "3.14159186819\n",
      "3.14159186819\n",
      "3.14159186819\n",
      "3.14159186819\n",
      "3.14159186819\n",
      "3.14159186819\n",
      "3.14159186819\n",
      "3.14159186819\n",
      "3.14159186819\n",
      "3.14159186819\n",
      "3.14159186819\n",
      "3.14159186819\n",
      "3.14159186819\n",
      "3.14159186819\n",
      "3.14159186819\n",
      "3.14159186819\n",
      "3.14159186819\n",
      "3.14159186819\n",
      "3.14159186819\n",
      "3.14159186819\n",
      "3.14159186819\n",
      "3.14159186819\n",
      "3.14159186819\n",
      "3.14159186819\n",
      "3.14159186819\n",
      "3.14159186819\n",
      "3.14159186819\n",
      "3.14159186819\n",
      "3.14159186819\n",
      "3.14159186819\n",
      "3.14159186819\n",
      "3.14159186819\n",
      "3.14159186819\n",
      "3.14159186819\n",
      "3.14159186819\n",
      "3.14159186819\n",
      "3.14159186819\n",
      "3.14159186819\n",
      "3.14159186819\n",
      "3.14159186819\n",
      "3.14159186819\n",
      "3.14159186819\n",
      "3.14159186819\n",
      "3.14159186819\n",
      "3.14159186819\n",
      "3.14159186819\n",
      "3.14159186819\n",
      "3.14159186819\n",
      "3.14159186819\n",
      "3.14159186819\n",
      "3.14159186819\n",
      "3.14159186819\n",
      "3.14159186819\n",
      "3.14159186819\n",
      "3.14159186819\n",
      "3.14159186819\n",
      "3.14159186819\n",
      "3.14159186819\n",
      "3.14159186819\n",
      "3.14159186819\n",
      "3.14159186819\n",
      "3.14159186819\n",
      "3.14159186819\n",
      "3.14159186819\n",
      "3.14159186819\n",
      "3.14159186819\n",
      "3.14159186819\n",
      "3.14159186819\n",
      "3.14159186819\n",
      "3.14159186819\n",
      "3.14159186819\n",
      "3.14159186819\n",
      "3.14159186819\n",
      "3.14159186819\n",
      "3.14159186819\n",
      "3.14159186819\n",
      "3.14159186819\n",
      "3.14159186819\n",
      "3.14159186819\n",
      "3.14159186819\n",
      "3.14159186819\n",
      "3.14159186819\n",
      "3.14159186819\n",
      "3.14159186819\n",
      "3.14159186819\n",
      "3.14159186819\n",
      "3.14159186819\n",
      "3.14159186819\n",
      "3.14159186819\n",
      "3.14159186819\n",
      "3.14159186819\n",
      "3.14159186819\n",
      "3.14159186819\n",
      "3.14159186819\n",
      "3.14159186819\n",
      "3.14159186819\n",
      "3.14159186819\n",
      "3.14159186819\n",
      "3.14159186819\n",
      "3.14159186819\n",
      "3.14159186819\n",
      "3.14159186819\n",
      "3.14159186819\n",
      "3.14159186819\n",
      "3.14159186819\n",
      "3.14159186819\n",
      "3.14159186819\n",
      "3.14159186819\n",
      "3.14159186819\n",
      "3.14159186819\n",
      "3.14159186819\n",
      "3.14159186819\n",
      "3.14159186819\n",
      "3.14159186819\n",
      "3.14159186819\n",
      "3.14159186819\n",
      "3.14159186819\n",
      "3.14159186819\n",
      "3.14159186819\n",
      "3.14159186819\n",
      "3.14159186819\n",
      "3.14159186819\n",
      "3.14159186819\n",
      "3.14159186819\n",
      "3.14159186819\n",
      "3.14159186819\n",
      "3.14159186819\n",
      "3.14159186819\n",
      "3.14159186819\n",
      "3.14159186819\n",
      "3.14159186819\n",
      "3.14159186819\n",
      "3.14159186819\n",
      "3.14159186819\n",
      "3.14159186819\n",
      "3.14159186819\n",
      "3.14159186819\n",
      "3.14159186819\n",
      "3.14159186819\n",
      "3.14159186819\n",
      "3.14159186819\n",
      "3.14159186819\n",
      "3.14159186819\n",
      "3.14159186819\n",
      "3.14159186819\n",
      "3.14159186819\n",
      "3.14159186819\n",
      "3.14159186819\n",
      "3.14159186819\n",
      "3.14159186819\n",
      "3.14159186819\n",
      "3.14159186819\n",
      "3.14159186819\n",
      "3.14159186819\n",
      "3.14159186819\n",
      "3.14159186819\n",
      "3.14159186819\n",
      "3.14159186819\n",
      "3.14159186819\n",
      "3.14159186819\n",
      "3.14159186819\n",
      "3.14159186819\n",
      "3.14159186819\n",
      "3.14159186819\n",
      "3.14159186819\n",
      "3.14159186819\n",
      "3.14159186819\n",
      "3.14159186819\n",
      "3.14159186819\n",
      "3.14159186819\n",
      "3.14159186819\n",
      "3.14159186819\n",
      "3.14159186819\n",
      "3.14159186819\n",
      "3.14159186819\n",
      "3.14159186819\n",
      "3.14159186819\n",
      "3.14159186819\n",
      "3.14159186819\n",
      "3.14159186819\n",
      "3.14159186819\n",
      "3.14159186819\n",
      "3.14159186819\n",
      "3.14159186819\n",
      "3.14159186819\n",
      "3.14159186819\n",
      "3.14159186819\n",
      "3.14159186819\n",
      "3.14159186819\n",
      "3.14159186819\n",
      "3.14159186819\n",
      "3.14159186819\n",
      "3.14159186819\n",
      "3.14159186819\n",
      "3.14159186819\n",
      "3.14159186819\n",
      "3.14159186819\n",
      "3.14159186819\n",
      "3.14159186819\n",
      "3.14159186819\n",
      "3.14159186819\n",
      "3.14159186819\n",
      "3.14159186819\n",
      "3.14159186819\n",
      "3.14159186819\n",
      "3.14159186819\n",
      "3.14159186819\n",
      "3.14159186819\n",
      "3.14159186819\n",
      "3.14159186819\n",
      "3.14159186819\n",
      "3.14159186819\n",
      "3.14159186819\n",
      "3.14159186819\n",
      "3.14159186819\n",
      "3.14159186819\n",
      "3.14159186819\n",
      "3.14159186819\n",
      "3.14159186819\n",
      "3.14159186819\n",
      "3.14159186819\n",
      "3.14159186819\n",
      "3.14159186819\n",
      "3.14159186819\n",
      "3.14159186819\n",
      "3.14159186819\n",
      "3.14159186819\n",
      "3.14159186819\n",
      "3.14159186819\n",
      "3.14159186819\n",
      "3.14159186819\n",
      "3.14159186819\n",
      "3.14159186819\n",
      "3.14159186819\n",
      "3.14159186819\n",
      "3.14159186819\n",
      "3.14159186819\n",
      "3.14159186819\n",
      "3.14159186819\n",
      "3.14159186819\n",
      "3.14159186819\n",
      "3.14159186819\n",
      "3.14159186819\n",
      "3.14159186819\n",
      "3.14159186819\n",
      "3.14159186819\n",
      "3.14159186819\n",
      "3.14159186819\n",
      "3.14159186819\n",
      "3.14159186819\n",
      "3.14159186819\n",
      "3.14159186819\n",
      "3.14159186819\n",
      "3.14159186819\n",
      "3.14159186819\n",
      "3.14159186819\n",
      "3.14159186819\n",
      "3.14159186819\n",
      "3.14159186819\n",
      "3.14159186819\n",
      "3.14159186819\n",
      "3.14159186819\n",
      "3.14159186819\n",
      "3.14159186819\n",
      "3.14159186819\n",
      "100 loops, best of 3: 23.3 ms per loop\n"
     ]
    }
   ],
   "source": [
    "%timeit piArray(1000000)"
   ]
  },
  {
   "cell_type": "markdown",
   "metadata": {},
   "source": [
    "# Parsing and Plotting"
   ]
  },
  {
   "cell_type": "code",
   "execution_count": 46,
   "metadata": {
    "collapsed": false
   },
   "outputs": [
    {
     "data": {
      "text/plain": [
       "('soper2000oo.txt', <http.client.HTTPMessage at 0x11311bb70>)"
      ]
     },
     "execution_count": 46,
     "metadata": {},
     "output_type": "execute_result"
    }
   ],
   "source": [
    "import urllib\n",
    "urllib.request.urlretrieve('http://pitt.edu/~defusco/soper2000oo.txt','soper2000oo.txt')"
   ]
  },
  {
   "cell_type": "code",
   "execution_count": 44,
   "metadata": {
    "collapsed": false
   },
   "outputs": [],
   "source": [
    "bins, r, gr, stddev = np.loadtxt('soper2000oo.txt', unpack=True)"
   ]
  },
  {
   "cell_type": "code",
   "execution_count": 45,
   "metadata": {
    "collapsed": false
   },
   "outputs": [
    {
     "name": "stdout",
     "output_type": "stream",
     "text": [
      "Populating the interactive namespace from numpy and matplotlib\n"
     ]
    },
    {
     "data": {
      "text/plain": [
       "[<matplotlib.lines.Line2D at 0x113156080>]"
      ]
     },
     "execution_count": 45,
     "metadata": {},
     "output_type": "execute_result"
    },
    {
     "data": {
      "image/png": "[encoded data removed]",
      "text/plain": [
       "<matplotlib.figure.Figure at 0x112d5e3c8>"
      ]
     },
     "metadata": {},
     "output_type": "display_data"
    }
   ],
   "source": [
    "%pylab inline\n",
    "plot(bins, gr)"
   ]
  },
  {
   "cell_type": "code",
   "execution_count": 47,
   "metadata": {
    "collapsed": false
   },
   "outputs": [
    {
     "ename": "ImportError",
     "evalue": "No module named 'scipy'",
     "output_type": "error",
     "traceback": [
      "\u001b[0;31m---------------------------------------------------------------------------\u001b[0m",
      "\u001b[0;31mImportError\u001b[0m                               Traceback (most recent call last)",
      "\u001b[0;32m<ipython-input-47-4dc45f4c0083>\u001b[0m in \u001b[0;36m<module>\u001b[0;34m()\u001b[0m\n\u001b[0;32m----> 1\u001b[0;31m \u001b[0;32mimport\u001b[0m \u001b[0mscipy\u001b[0m\u001b[0;34m\u001b[0m\u001b[0m\n\u001b[0m",
      "\u001b[0;31mImportError\u001b[0m: No module named 'scipy'"
     ]
    }
   ],
   "source": []
  },
  {
   "cell_type": "code",
   "execution_count": null,
   "metadata": {
    "collapsed": true
   },
   "outputs": [],
   "source": []
  }
 ],
 "metadata": {
  "kernelspec": {
   "display_name": "Python 3",
   "language": "python",
   "name": "python3"
  },
  "language_info": {
   "codemirror_mode": {
    "name": "ipython",
    "version": 3
   },
   "file_extension": ".py",
   "mimetype": "text/x-python",
   "name": "python",
   "nbconvert_exporter": "python",
   "pygments_lexer": "ipython3",
   "version": "3.5.0a3"
  }
 },
 "nbformat": 4,
 "nbformat_minor": 0
}
