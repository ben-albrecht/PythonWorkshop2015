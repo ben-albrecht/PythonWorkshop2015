{
 "cells": [
  {
   "cell_type": "markdown",
   "metadata": {
    "slideshow": {
     "slide_type": "slide"
    }
   },
   "source": [
    "#Scientific Libraries in Python\n",
    "##Albert DeFusco"
   ]
  },
  {
   "cell_type": "markdown",
   "metadata": {
    "slideshow": {
     "slide_type": "slide"
    }
   },
   "source": [
    "##NumPy Array\n",
    "* Fast mathematical operations\n",
    "  - Homogeneous data types\n",
    "  - Contiguous memory layout\n",
    "* Fixed length but mutable\n",
    "  - no append or prepend\n",
    "* Multidimensional\n",
    "  - row-major\n",
    "* Numpy data types\n",
    "  - http://docs.scipy.org/doc/numpy/user/basics.types.html"
   ]
  },
  {
   "cell_type": "code",
   "execution_count": 11,
   "metadata": {
    "collapsed": false
   },
   "outputs": [],
   "source": [
    "import numpy as np\n",
    "x = np.array( [[1.,2.,3], [4.,5.,6.]] )\n",
    "n = np.array( [[1,2,3], [4,5,6]] )\n",
    "s = np.array( n, dtype=np.int32)"
   ]
  },
  {
   "cell_type": "code",
   "execution_count": 12,
   "metadata": {
    "collapsed": false
   },
   "outputs": [
    {
     "name": "stdout",
     "output_type": "stream",
     "text": [
      "x is  float64\n",
      "n is  int64\n",
      "s is  int32\n"
     ]
    }
   ],
   "source": [
    "print \"x is \",x.dtype\n",
    "print \"n is \",n.dtype\n",
    "print \"s is \",s.dtype"
   ]
  },
  {
   "cell_type": "markdown",
   "metadata": {
    "slideshow": {
     "slide_type": "slide"
    }
   },
   "source": [
    "##Array slicing\n",
    "* Just like lists\n",
    "* Slices are views and not copied"
   ]
  },
  {
   "cell_type": "code",
   "execution_count": 13,
   "metadata": {
    "collapsed": false
   },
   "outputs": [
    {
     "name": "stdout",
     "output_type": "stream",
     "text": [
      "[0 1 2 3 4 5 6 7 8 9]\n"
     ]
    }
   ],
   "source": [
    "import numpy as np\n",
    "x = np.arange(10)\n",
    "print x"
   ]
  },
  {
   "cell_type": "code",
   "execution_count": 20,
   "metadata": {
    "collapsed": false
   },
   "outputs": [
    {
     "name": "stdout",
     "output_type": "stream",
     "text": [
      "0 4 9\n"
     ]
    }
   ],
   "source": [
    "#single values\n",
    "print x[0],x[4],x[-1]"
   ]
  },
  {
   "cell_type": "code",
   "execution_count": 18,
   "metadata": {
    "collapsed": false
   },
   "outputs": [
    {
     "name": "stdout",
     "output_type": "stream",
     "text": [
      "[0 1 2]\n",
      "[1 3 5 7]\n",
      "<type 'numpy.ndarray'>\n"
     ]
    }
   ],
   "source": [
    "#ranges\n",
    "print x[0:3]\n",
    "print x[1:8:2]\n",
    "print type(x[1:8:2])"
   ]
  },
  {
   "cell_type": "code",
   "execution_count": 19,
   "metadata": {
    "collapsed": false
   },
   "outputs": [
    {
     "name": "stdout",
     "output_type": "stream",
     "text": [
      "[9 8 7 6 5 4 3 2 1 0]\n"
     ]
    }
   ],
   "source": [
    "#reverse array\n",
    "print x[::-1]"
   ]
  },
  {
   "cell_type": "markdown",
   "metadata": {
    "slideshow": {
     "slide_type": "slide"
    }
   },
   "source": [
    "##Array slices\n",
    "* Slices are views not copies"
   ]
  },
  {
   "cell_type": "code",
   "execution_count": 57,
   "metadata": {
    "collapsed": false
   },
   "outputs": [
    {
     "name": "stdout",
     "output_type": "stream",
     "text": [
      "[41 43 45 47]\n",
      "[ 0 41  2 43  4 45  6 47  8  9]\n"
     ]
    }
   ],
   "source": [
    "y = x[1:8:2]\n",
    "y += 10\n",
    "print y\n",
    "print x"
   ]
  },
  {
   "cell_type": "markdown",
   "metadata": {
    "slideshow": {
     "slide_type": "slide"
    }
   },
   "source": [
    "##Array operations\n",
    "* For loops are slow\n",
    "  - Array operations are auto-vectorized\n",
    "  - NumPy built-in operations make use of compiled code\n",
    "* Math operations are element wise (+, -, *, /, etc.)"
   ]
  },
  {
   "cell_type": "code",
   "execution_count": 23,
   "metadata": {
    "collapsed": false
   },
   "outputs": [
    {
     "name": "stdout",
     "output_type": "stream",
     "text": [
      "[0 1 2 3 4 5 6 7 8 9]\n",
      "[ 1  2  3  4  5  6  7  8  9 10]\n",
      "[ 0  2  4  6  8 10 12 14 16 18]\n",
      "[ 0  1  4  9 16 25 36 49 64 81]\n"
     ]
    }
   ],
   "source": [
    "x = np.arange(10)\n",
    "print x\n",
    "print x+1\n",
    "print x*2\n",
    "print x**2"
   ]
  },
  {
   "cell_type": "markdown",
   "metadata": {
    "slideshow": {
     "slide_type": "slide"
    }
   },
   "source": [
    "##Array operations\n",
    "* Operations between same sized and shaped array are *element wise*\n",
    "  - We'll see dot products later"
   ]
  },
  {
   "cell_type": "code",
   "execution_count": 35,
   "metadata": {
    "collapsed": false
   },
   "outputs": [
    {
     "name": "stdout",
     "output_type": "stream",
     "text": [
      "[0 1 2 3 4 5 6 7 8 9]\n",
      "[ 0 10 20 30 40 50 60 70 80 90]\n"
     ]
    }
   ],
   "source": [
    "x = np.arange(10)\n",
    "y = np.arange(0,100,10)\n",
    "print x\n",
    "print y"
   ]
  },
  {
   "cell_type": "code",
   "execution_count": 51,
   "metadata": {
    "collapsed": false
   },
   "outputs": [
    {
     "name": "stdout",
     "output_type": "stream",
     "text": [
      "[ 0 11 22 33 44 55 66 77 88 99]\n",
      "[  0  10  40  90 160 250 360 490 640 810]\n"
     ]
    }
   ],
   "source": [
    "print x+y\n",
    "print x*y"
   ]
  },
  {
   "cell_type": "markdown",
   "metadata": {
    "slideshow": {
     "slide_type": "slide"
    }
   },
   "source": [
    "##Array operations\n",
    "* Conditional operations return conditional arrays"
   ]
  },
  {
   "cell_type": "code",
   "execution_count": 53,
   "metadata": {
    "collapsed": false
   },
   "outputs": [
    {
     "name": "stdout",
     "output_type": "stream",
     "text": [
      "[False False False False False False  True  True  True  True]\n",
      "<type 'numpy.ndarray'> bool\n"
     ]
    }
   ],
   "source": [
    "z = y>50\n",
    "print z\n",
    "print type(z),z.dtype"
   ]
  },
  {
   "cell_type": "markdown",
   "metadata": {},
   "source": [
    "* masking makes a copy"
   ]
  },
  {
   "cell_type": "code",
   "execution_count": 79,
   "metadata": {
    "collapsed": false
   },
   "outputs": [
    {
     "name": "stdout",
     "output_type": "stream",
     "text": [
      "[[1, 2, 3] [4, 5]]\n",
      "(2,)\n",
      "[16 17 18 19]\n",
      "[0 1 2 3 4 5 6 7 8 9]\n"
     ]
    }
   ],
   "source": [
    "x = np.arange(10)\n",
    "print z\n",
    "print z.shape\n",
    "y = x[ x > 5 ]\n",
    "y += 10\n",
    "print y\n",
    "print x"
   ]
  },
  {
   "cell_type": "markdown",
   "metadata": {
    "slideshow": {
     "slide_type": "slide"
    }
   },
   "source": [
    "##Array operations\n",
    "* Convert between dimensions with `shape`"
   ]
  },
  {
   "cell_type": "code",
   "execution_count": 42,
   "metadata": {
    "collapsed": false
   },
   "outputs": [
    {
     "name": "stdout",
     "output_type": "stream",
     "text": [
      "[[0 1 2]\n",
      " [3 4 5]\n",
      " [6 7 8]]\n",
      "[[ 0 10 20]\n",
      " [30 40 50]\n",
      " [60 70 80]]\n"
     ]
    }
   ],
   "source": [
    "a = np.arange(9).reshape(3,3)\n",
    "b = np.arange(0,90,10).reshape(3,3)\n",
    "print a\n",
    "print b"
   ]
  },
  {
   "cell_type": "code",
   "execution_count": 63,
   "metadata": {
    "collapsed": false
   },
   "outputs": [
    {
     "name": "stdout",
     "output_type": "stream",
     "text": [
      "[[ 0 11 22]\n",
      " [33 44 55]\n",
      " [66 77 88]]\n",
      "[[  0  10  40]\n",
      " [ 90 160 250]\n",
      " [360 490 640]]\n",
      "36\n",
      "[ 0  1  3  6 10 15 21 28 36]\n"
     ]
    }
   ],
   "source": [
    "#both arrays must be the same shape\n",
    "print a+b\n",
    "print a*b\n",
    "print a.sum()\n",
    "print a.cumsum()"
   ]
  },
  {
   "cell_type": "markdown",
   "metadata": {
    "slideshow": {
     "slide_type": "slide"
    }
   },
   "source": [
    "##Array operations"
   ]
  },
  {
   "cell_type": "code",
   "execution_count": 61,
   "metadata": {
    "collapsed": false
   },
   "outputs": [
    {
     "ename": "ValueError",
     "evalue": "operands could not be broadcast together with shapes (5,) (2,) ",
     "output_type": "error",
     "traceback": [
      "\u001b[0;31m---------------------------------------------------------------------------\u001b[0m",
      "\u001b[0;31mValueError\u001b[0m                                Traceback (most recent call last)",
      "\u001b[0;32m<ipython-input-61-16f8a9ee2979>\u001b[0m in \u001b[0;36m<module>\u001b[0;34m()\u001b[0m\n\u001b[0;32m----> 1\u001b[0;31m \u001b[0mnp\u001b[0m\u001b[0;34m.\u001b[0m\u001b[0marange\u001b[0m\u001b[0;34m(\u001b[0m\u001b[0;36m5\u001b[0m\u001b[0;34m)\u001b[0m\u001b[0;34m+\u001b[0m\u001b[0mnp\u001b[0m\u001b[0;34m.\u001b[0m\u001b[0marange\u001b[0m\u001b[0;34m(\u001b[0m\u001b[0;36m2\u001b[0m\u001b[0;34m)\u001b[0m\u001b[0;34m\u001b[0m\u001b[0m\n\u001b[0m",
      "\u001b[0;31mValueError\u001b[0m: operands could not be broadcast together with shapes (5,) (2,) "
     ]
    }
   ],
   "source": [
    "np.arange(5)+np.arange(2)"
   ]
  },
  {
   "cell_type": "markdown",
   "metadata": {
    "slideshow": {
     "slide_type": "slide"
    }
   },
   "source": [
    "##Array operations\n",
    "* `sum()` Sum of all elements\n",
    "\n",
    "* `cumsum()` Cumulative sum (returns an array)\n",
    "\n",
    "* `prod()` Product of all elements\n",
    "\n",
    "* `cumprod()` Cumulative product (returns an array)"
   ]
  },
  {
   "cell_type": "markdown",
   "metadata": {
    "slideshow": {
     "slide_type": "slide"
    }
   },
   "source": [
    "##Functions of arrays\n",
    "* When arrays are arguements, the operations are already vectorized\n",
    "* Use `vectorize` when in doubt"
   ]
  },
  {
   "cell_type": "code",
   "execution_count": 80,
   "metadata": {
    "collapsed": true
   },
   "outputs": [],
   "source": [
    "def myAdd(a,b):\n",
    "    return (a + b)**2\n",
    "\n",
    "vec_myAdd = vectorize(myAdd) #just to be safe"
   ]
  },
  {
   "cell_type": "markdown",
   "metadata": {
    "slideshow": {
     "slide_type": "slide"
    }
   },
   "source": [
    "##Things I skipped\n",
    "* Broadcasting\n",
    "\n",
    "* Fancy indexing\n",
    "\n",
    "* New axis"
   ]
  },
  {
   "cell_type": "markdown",
   "metadata": {
    "slideshow": {
     "slide_type": "slide"
    }
   },
   "source": [
    "##Compute &pi;\n",
    "$$\\pi = 2\\prod^{\\infty}_{i=1}\\frac{4i^2}{4i^2-1}$$\n",
    "\n",
    "List-based function"
   ]
  },
  {
   "cell_type": "code",
   "execution_count": 48,
   "metadata": {
    "collapsed": true
   },
   "outputs": [],
   "source": [
    "def piLoop(n):\n",
    "  pi = 2.\n",
    "  for i in range(1,n):\n",
    "    temp=i**2*4.\n",
    "    pi *= temp / (temp-1)\n",
    "  print pi"
   ]
  },
  {
   "cell_type": "code",
   "execution_count": 49,
   "metadata": {
    "collapsed": false
   },
   "outputs": [
    {
     "name": "stdout",
     "output_type": "stream",
     "text": [
      "3.14159257508\n",
      "3.14159257508\n",
      "3.14159257508\n",
      "3.14159257508\n",
      "1 loops, best of 3: 3.11 s per loop\n"
     ]
    }
   ],
   "source": [
    "%timeit piLoop(10000000)"
   ]
  },
  {
   "cell_type": "markdown",
   "metadata": {},
   "source": [
    "Let's switch to iPython Notebooks"
   ]
  },
  {
   "cell_type": "markdown",
   "metadata": {
    "slideshow": {
     "slide_type": "slide"
    }
   },
   "source": [
    "##Array creators\n",
    "* `np.arange(start,stop,increment)`\n",
    "\n",
    "* `np.linspace(start,stop,nElments)`\n",
    "\n",
    "* `np.zeros(nRows,nColumns)`\n",
    "\n",
    "* `np.ones(nRows,nColumns)`\n",
    "\n",
    "* `np.fill(number)`\n",
    "\n",
    "* http://docs.scipy.org/doc/numpy/reference/routines.array-creation.html\n"
   ]
  },
  {
   "cell_type": "markdown",
   "metadata": {
    "collapsed": true,
    "slideshow": {
     "slide_type": "slide"
    }
   },
   "source": [
    "##SciPy\n",
    "Collection of mathematical functions useful in scientific computing\n",
    "<table>\n",
    "<tr><td><b>Subpackage</b></td> \t<td><b>Description</b></td></tr>\n",
    "<tr><td>cluster</td> \t<td>Clustering algorithms</td><tr>\n",
    "<tr><td>constants</td> \t<td>Physical and mathematical constants</td><tr>\n",
    "<tr><td>fftpack</td> \t<td>Fast Fourier Transform routines</td><tr>\n",
    "<tr><td>integrate</td> \t<td>Integration and ordinary differential equation solvers</td><tr>\n",
    "<tr><td>interpolate</td> \t<td>Interpolation and smoothing splines</td><tr>\n",
    "<tr><td>io</td> \t<td>Input and Output</td><tr>\n",
    "<tr><td>linalg</td> \t<td>Linear algebra</td><tr>\n",
    "<tr><td>ndimage</td> \t<td>N-dimensional image processing</td><tr>\n",
    "<tr><td>odr</td> \t<td>Orthogonal distance regression</td><tr>\n",
    "<tr><td>optimize</td> \t<td>Optimization and root-finding routines</td><tr>\n",
    "<tr><td>signal</td> \t<td>Signal processing</td><tr>\n",
    "<tr><td>sparse</td> \t<td>Sparse matrices and associated routines</td><tr>\n",
    "<tr><td>spatial</td> \t<td>Spatial data structures and algorithms</td><tr>\n",
    "<tr><td>special</td> \t<td>Special functions</td><tr>\n",
    "<tr><td>stats</td> \t<td>Statistical distributions and functions</td><tr>\n",
    "<tr><td>weave</td> \t<td>C/C++ integration</td><tr>\n",
    "</table>\n"
   ]
  },
  {
   "cell_type": "markdown",
   "metadata": {
    "slideshow": {
     "slide_type": "slide"
    }
   },
   "source": [
    "##Matrices\n",
    "* Dot product `a.dot(b)`\n",
    "\n",
    "* Transpost `a.T`\n",
    "\n",
    "* `np.matrix` for 2D only\n",
    "\n",
    "* See `scipy.linalg` for useful tools"
   ]
  },
  {
   "cell_type": "code",
   "execution_count": 83,
   "metadata": {
    "collapsed": false
   },
   "outputs": [
    {
     "name": "stdout",
     "output_type": "stream",
     "text": [
      "[[1 2]\n",
      " [3 4]]\n",
      "<class 'numpy.matrixlib.defmatrix.matrix'> int64\n"
     ]
    }
   ],
   "source": [
    "A = np.matrix('1,2 ; 3,4')\n",
    "print A\n",
    "print type(A),A.dtype"
   ]
  },
  {
   "cell_type": "code",
   "execution_count": 90,
   "metadata": {
    "collapsed": false
   },
   "outputs": [
    {
     "name": "stdout",
     "output_type": "stream",
     "text": [
      "[[2 4]\n",
      " [6 8]]\n",
      "[[2 4]\n",
      " [6 8]]\n"
     ]
    }
   ],
   "source": [
    "B = np.matrix('2,0 ; 0,2')\n",
    "print A*B\n",
    "a = np.array([[1,2],[3,4]]).reshape(2,2)\n",
    "b = np.array([[2,0],[0,2]]).reshape(2,2)\n",
    "print a.dot(b)"
   ]
  }
 ],
 "metadata": {
  "celltoolbar": "Slideshow",
  "kernelspec": {
   "display_name": "Python 2",
   "language": "python",
   "name": "python2"
  },
  "language_info": {
   "codemirror_mode": {
    "name": "ipython",
    "version": 2
   },
   "file_extension": ".py",
   "mimetype": "text/x-python",
   "name": "python",
   "nbconvert_exporter": "python",
   "pygments_lexer": "ipython2",
   "version": "2.7.9"
  }
 },
 "nbformat": 4,
 "nbformat_minor": 0
}
