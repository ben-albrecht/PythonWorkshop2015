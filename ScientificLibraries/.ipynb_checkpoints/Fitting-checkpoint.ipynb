{
 "cells": [
  {
   "cell_type": "code",
   "execution_count": null,
   "metadata": {
    "collapsed": true
   },
   "outputs": [],
   "source": [
    "import numpy as np\n",
    "def myFunc(x,alpha=9.745,gamma=0.09146):\n",
    "    epsilon=0.5/np.sqrt(alpha)\n",
    "    damp = 1.0 - np.exp(-gamma*x**3)\n",
    "    return epsilon - np.sqrt(epsilon*epsilon + epsilon*alpha*damp*damp/(x**4))"
   ]
  },
  {
   "cell_type": "code",
   "execution_count": null,
   "metadata": {
    "collapsed": false
   },
   "outputs": [],
   "source": [
    "%pylab inline\n",
    "x=np.linspace(0.0001,40,200)\n",
    "y=myFunc(x)\n",
    "xlim(0,10)\n",
    "plot(x,y)"
   ]
  },
  {
   "cell_type": "code",
   "execution_count": null,
   "metadata": {
    "collapsed": true
   },
   "outputs": [],
   "source": [
    "from scipy.optimize import leastsq"
   ]
  },
  {
   "cell_type": "code",
   "execution_count": null,
   "metadata": {
    "collapsed": true
   },
   "outputs": [],
   "source": [
    "def gauss3(x,fit,s=2.8):\n",
    "    \"\"\"x is the independent variable; fit is a tuple of weights\"\"\"\n",
    "    return -fit[1]*exp(-fit[0]*x*x) + \\\n",
    "            fit[2]*exp(-fit[0]/s*x*x) + \\\n",
    "            fit[3]*exp(-fit[0]/(s**2)*x*x)\n",
    "def residual(fit,x,y):\n",
    "    return gauss3(x,fit)-y"
   ]
  },
  {
   "cell_type": "code",
   "execution_count": null,
   "metadata": {
    "collapsed": false
   },
   "outputs": [],
   "source": [
    "guess=(1,1,1,1)\n",
    "fit3,success=leastsq(residual,guess,args=(x,y))\n",
    "print fit3,success"
   ]
  },
  {
   "cell_type": "code",
   "execution_count": null,
   "metadata": {
    "collapsed": false
   },
   "outputs": [],
   "source": [
    "%pylab inline\n",
    "x=np.linspace(0.0001,40,200)\n",
    "y1=myFunc(x)\n",
    "y2=gauss3(x,fit3)\n",
    "xlim(0,10)\n",
    "plot(x,y,'b',label='myFunc')\n",
    "plot(x,y2,'g',label='3 gaussians')"
   ]
  }
 ],
 "metadata": {
  "kernelspec": {
   "display_name": "Python 2",
   "language": "python",
   "name": "python2"
  },
  "language_info": {
   "codemirror_mode": {
    "name": "ipython",
    "version": 2
   },
   "file_extension": ".py",
   "mimetype": "text/x-python",
   "name": "python",
   "nbconvert_exporter": "python",
   "pygments_lexer": "ipython2",
   "version": "2.7.9"
  }
 },
 "nbformat": 4,
 "nbformat_minor": 0
}
