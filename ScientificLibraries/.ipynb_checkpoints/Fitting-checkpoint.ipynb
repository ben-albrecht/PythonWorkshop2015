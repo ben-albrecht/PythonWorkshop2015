{
 "cells": [
  {
   "cell_type": "code",
   "execution_count": 1,
   "metadata": {
    "collapsed": true
   },
   "outputs": [],
   "source": [
    "import numpy as np\n",
    "def myFunc(x,alpha=9.745,gamma=0.09146):\n",
    "    epsilon=0.5/np.sqrt(alpha)\n",
    "    damp = 1.0 - np.exp(-gamma*x**3)\n",
    "    return epsilon - np.sqrt(epsilon*epsilon + epsilon*alpha*damp*damp/(x**4))"
   ]
  },
  {
   "cell_type": "code",
   "execution_count": 2,
   "metadata": {
    "collapsed": false
   },
   "outputs": [
    {
     "name": "stdout",
     "output_type": "stream",
     "text": [
      "Populating the interactive namespace from numpy and matplotlib\n"
     ]
    },
    {
     "data": {
      "text/plain": [
       "[<matplotlib.lines.Line2D at 0x104946a20>]"
      ]
     },
     "execution_count": 2,
     "metadata": {},
     "output_type": "execute_result"
    },
    {
     "data": {
      "image/png": "[encoded data removed]",
      "text/plain": [
       "<matplotlib.figure.Figure at 0x104946a90>"
      ]
     },
     "metadata": {},
     "output_type": "display_data"
    }
   ],
   "source": [
    "%pylab inline\n",
    "x=np.linspace(0.0001,40,200)\n",
    "y=myFunc(x)\n",
    "xlim(0,10)\n",
    "plot(x,y)"
   ]
  },
  {
   "cell_type": "code",
   "execution_count": 3,
   "metadata": {
    "collapsed": false
   },
   "outputs": [
    {
     "ename": "ImportError",
     "evalue": "No module named 'scipy'",
     "output_type": "error",
     "traceback": [
      "\u001b[0;31m---------------------------------------------------------------------------\u001b[0m",
      "\u001b[0;31mImportError\u001b[0m                               Traceback (most recent call last)",
      "\u001b[0;32m<ipython-input-3-4bd2ea06c3de>\u001b[0m in \u001b[0;36m<module>\u001b[0;34m()\u001b[0m\n\u001b[0;32m----> 1\u001b[0;31m \u001b[0;32mfrom\u001b[0m \u001b[0mscipy\u001b[0m\u001b[0;34m.\u001b[0m\u001b[0moptimize\u001b[0m \u001b[0;32mimport\u001b[0m \u001b[0mleastsq\u001b[0m\u001b[0;34m\u001b[0m\u001b[0m\n\u001b[0m",
      "\u001b[0;31mImportError\u001b[0m: No module named 'scipy'"
     ]
    }
   ],
   "source": [
    "from scipy.optimize import leastsq"
   ]
  },
  {
   "cell_type": "code",
   "execution_count": null,
   "metadata": {
    "collapsed": true
   },
   "outputs": [],
   "source": [
    "def gauss3(x,fit,s=2.8):\n",
    "    \"\"\"x is the independent variable; fit is a tuple of weights\"\"\"\n",
    "    return -fit[1]*exp(-fit[0]*x*x) + \\\n",
    "            fit[2]*exp(-fit[0]/s*x*x) + \\\n",
    "            fit[3]*exp(-fit[0]/(s**2)*x*x)\n",
    "def residual(fit,x,y):\n",
    "    return gauss3(x,fit)-y"
   ]
  },
  {
   "cell_type": "code",
   "execution_count": null,
   "metadata": {
    "collapsed": false
   },
   "outputs": [],
   "source": [
    "guess=(1,1,1,1)\n",
    "fit3,success=leastsq(residual,guess,args=(x,y))\n",
    "print fit3,success"
   ]
  },
  {
   "cell_type": "code",
   "execution_count": null,
   "metadata": {
    "collapsed": false
   },
   "outputs": [],
   "source": [
    "%pylab inline\n",
    "x=np.linspace(0.0001,40,200)\n",
    "y1=myFunc(x)\n",
    "y2=gauss3(x,fit3)\n",
    "xlim(0,10)\n",
    "plot(x,y,'b',label='myFunc')\n",
    "plot(x,y2,'g',label='3 gaussians')"
   ]
  }
 ],
 "metadata": {
  "kernelspec": {
   "display_name": "Python 3",
   "language": "python",
   "name": "python3"
  },
  "language_info": {
   "codemirror_mode": {
    "name": "ipython",
    "version": 3
   },
   "file_extension": ".py",
   "mimetype": "text/x-python",
   "name": "python",
   "nbconvert_exporter": "python",
   "pygments_lexer": "ipython3",
   "version": "3.5.0a3"
  }
 },
 "nbformat": 4,
 "nbformat_minor": 0
}
