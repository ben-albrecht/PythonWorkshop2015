{
 "cells": [
  {
   "cell_type": "code",
   "execution_count": 9,
   "metadata": {
    "collapsed": false
   },
   "outputs": [
    {
     "data": {
      "text/plain": [
       "('soper2000oo.txt', <httplib.HTTPMessage instance at 0x109c4c830>)"
      ]
     },
     "execution_count": 9,
     "metadata": {},
     "output_type": "execute_result"
    }
   ],
   "source": [
    "import urllib\n",
    "urllib.urlretrieve('http://pitt.edu/~defusco/soper2000oo.txt','soper2000oo.txt')"
   ]
  },
  {
   "cell_type": "code",
   "execution_count": 10,
   "metadata": {
    "collapsed": false
   },
   "outputs": [
    {
     "name": "stdout",
     "output_type": "stream",
     "text": [
      "#H2O Chem Phys Special Issue vol 258, pp 121-137 (2000)\r",
      "\r\n",
      "#T=298K Case (a) g_OO(r)\r",
      "\r\n",
      "\r",
      "\r\n",
      "# Bin no.        r             g(r)        std.\r",
      "\r\n",
      "      1 0.0000000E+00 0.0000000E+00 0.0000000E+00\r",
      "\r\n",
      "      2 0.7500000E-02 0.0000000E+00 0.0000000E+00\r",
      "\r\n",
      "      3 0.3000000E-01 0.0000000E+00 0.0000000E+00\r",
      "\r\n",
      "      4 0.5999999E-01 0.0000000E+00 0.0000000E+00\r",
      "\r\n",
      "      5 0.9000000E-01 0.0000000E+00 0.0000000E+00\r",
      "\r\n",
      "      6 0.1200000     0.0000000E+00 0.0000000E+00\r",
      "\r\n"
     ]
    }
   ],
   "source": [
    "!head soper2000oo.txt"
   ]
  },
  {
   "cell_type": "code",
   "execution_count": 7,
   "metadata": {
    "collapsed": true
   },
   "outputs": [],
   "source": [
    "import numpy as np\n",
    "b, r, g, s = np.loadtxt('soper2000oo.txt',unpack=True)"
   ]
  },
  {
   "cell_type": "code",
   "execution_count": 5,
   "metadata": {
    "collapsed": false
   },
   "outputs": [
    {
     "name": "stdout",
     "output_type": "stream",
     "text": [
      "7.0 0.12 0.0 0.0\n"
     ]
    }
   ],
   "source": [
    "print b[6],r[5],g[5],s[5]"
   ]
  },
  {
   "cell_type": "code",
   "execution_count": 8,
   "metadata": {
    "collapsed": false
   },
   "outputs": [
    {
     "name": "stdout",
     "output_type": "stream",
     "text": [
      "Populating the interactive namespace from numpy and matplotlib\n"
     ]
    },
    {
     "data": {
      "text/plain": [
       "[<matplotlib.lines.Line2D at 0x109d22350>]"
      ]
     },
     "execution_count": 8,
     "metadata": {},
     "output_type": "execute_result"
    },
    {
     "data": {
      "image/png": "[encoded data removed]",
      "text/plain": [
       "<matplotlib.figure.Figure at 0x108c16e10>"
      ]
     },
     "metadata": {},
     "output_type": "display_data"
    }
   ],
   "source": [
    "%pylab inline\n",
    "plot(r,g)"
   ]
  },
  {
   "cell_type": "code",
   "execution_count": null,
   "metadata": {
    "collapsed": true
   },
   "outputs": [],
   "source": []
  }
 ],
 "metadata": {
  "kernelspec": {
   "display_name": "Python 2",
   "language": "python",
   "name": "python2"
  },
  "language_info": {
   "codemirror_mode": {
    "name": "ipython",
    "version": 2
   },
   "file_extension": ".py",
   "mimetype": "text/x-python",
   "name": "python",
   "nbconvert_exporter": "python",
   "pygments_lexer": "ipython2",
   "version": "2.7.9"
  }
 },
 "nbformat": 4,
 "nbformat_minor": 0
}
