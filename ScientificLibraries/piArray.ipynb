{
 "cells": [
  {
   "cell_type": "code",
   "execution_count": 2,
   "metadata": {
    "collapsed": true
   },
   "outputs": [],
   "source": [
    "def piLoop(n):\n",
    "    pi=2.\n",
    "    for i in range(1,n):\n",
    "      temp=i**2*4.\n",
    "      pi *= temp/(temp-1)\n",
    "    print pi"
   ]
  },
  {
   "cell_type": "code",
   "execution_count": 3,
   "metadata": {
    "collapsed": false
   },
   "outputs": [
    {
     "name": "stdout",
     "output_type": "stream",
     "text": [
      "3.14159257508\n",
      "3.14159257508\n",
      "3.14159257508\n",
      "3.14159257508\n",
      "1 loops, best of 3: 2.94 s per loop\n"
     ]
    }
   ],
   "source": [
    "%timeit piLoop(10000000)"
   ]
  },
  {
   "cell_type": "code",
   "execution_count": null,
   "metadata": {
    "collapsed": true
   },
   "outputs": [],
   "source": [
    "Compute pi faster using numpy arrays"
   ]
  },
  {
   "cell_type": "code",
   "execution_count": 8,
   "metadata": {
    "collapsed": true
   },
   "outputs": [],
   "source": [
    "import numpy as np\n",
    "def piArray(n):\n",
    "    series=np.arange(1,n)**2*4.\n",
    "    series/=(series-1)\n",
    "    print 2.*series.prod()"
   ]
  },
  {
   "cell_type": "code",
   "execution_count": 9,
   "metadata": {
    "collapsed": false
   },
   "outputs": [
    {
     "name": "stdout",
     "output_type": "stream",
     "text": [
      "3.14159257508\n",
      "3.14159257508\n",
      "3.14159257508\n",
      "3.14159257508\n",
      "1 loops, best of 3: 175 ms per loop\n"
     ]
    }
   ],
   "source": [
    "%timeit piArray(10000000)"
   ]
  },
  {
   "cell_type": "code",
   "execution_count": null,
   "metadata": {
    "collapsed": true
   },
   "outputs": [],
   "source": []
  }
 ],
 "metadata": {
  "kernelspec": {
   "display_name": "Python 2",
   "language": "python",
   "name": "python2"
  },
  "language_info": {
   "codemirror_mode": {
    "name": "ipython",
    "version": 2
   },
   "file_extension": ".py",
   "mimetype": "text/x-python",
   "name": "python",
   "nbconvert_exporter": "python",
   "pygments_lexer": "ipython2",
   "version": "2.7.9"
  }
 },
 "nbformat": 4,
 "nbformat_minor": 0
}
